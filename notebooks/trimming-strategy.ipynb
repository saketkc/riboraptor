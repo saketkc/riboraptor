{
 "cells": [
  {
   "cell_type": "markdown",
   "metadata": {},
   "source": [
    "# Detecting adapters\n",
    "\n",
    "For datasets where the adapter is tricky in situations where non-standard adapters have been used or a barcode exists adjacent to the adapter."
   ]
  },
  {
   "cell_type": "markdown",
   "metadata": {},
   "source": [
    "# 3' adapters\n",
    "\n",
    "This section is borrowed and copied as it is from the `cutadapt` [manual](https://cutadapt.readthedocs.io/en/v1.7.1/guide.html).\n",
    "\n",
    "\n",
    "A 3’ adapter is a piece of DNA ligated to the 3’\n",
    "end of the DNA fragment you are interested in. \n",
    "The sequencer starts the sequencing process at the 5’\n",
    "end of the fragment and sequences into the adapter\n",
    "if the read is long enough. \n",
    "\n",
    "The read that it outputs will then have a part of\n",
    "the adapter in the end. Or, if the adapter was \n",
    "short and the read length quite long, then the adapter\n",
    "will be somewhere within the read (followed by other bases).\n",
    "\n",
    "For example, assume your fragment of interest\n",
    "is MYSEQUENCE and the adapter is ADAPTER. \n",
    "Depending on the read length, \n",
    "you will get reads that look like this:\n",
    "\n",
    "```\n",
    "MYSEQUEN\n",
    "MYSEQUENCEADAP\n",
    "MYSEQUENCEADAPTER\n",
    "MYSEQUENCEADAPTERSOMETHINGELSE\n",
    "```\n",
    "\n",
    "Use cutadapt’s -a ADAPTER option to remove this type of adapter. This will be the result:\n",
    "\n",
    "```\n",
    "MYSEQUEN\n",
    "MYSEQUENCE\n",
    "MYSEQUENCE\n",
    "MYSEQUENCE\n",
    "```\n",
    "As can be seen, cutadapt correctly deals with partial adapter matches,\n",
    "and also with any trailing sequences after the adapter.\n",
    "Cutadapt deals with 3’ adapters by removing the adapter itself and \n",
    "any sequence that may follow.\n",
    "If the sequence starts with an adapter, like this:\n",
    "```\n",
    "ADAPTERSOMETHING\n",
    "```\n",
    "Then the sequence will be empty after trimming. \n",
    "Note that, by default, empty reads are not discarded and will appear in the output.\n",
    "\n",
    "\n",
    "NOTE: Our adapter in the above case is not \"anchored\" at the end. There is a seprate flag to handle that in `cutadapt`.\n",
    "\n",
    "Here we perform various case studies where `cutadapt`'s auto-detection alone is not useful. \n",
    "\n",
    "The standard adapters are:\n",
    "\n",
    "\n",
    "| Protocol |  Adapter     |\n",
    "|----------|--------------|\n",
    "|Illumina  | AGATCGGAAGAGC|\n",
    "|Small RNA |  TGGAATTCTCGG|\n",
    "|Nextera   |  CTGTCTCTTATA|"
   ]
  },
  {
   "cell_type": "code",
   "execution_count": 3,
   "metadata": {},
   "outputs": [
    {
     "name": "stdout",
     "output_type": "stream",
     "text": [
      "Populating the interactive namespace from numpy and matplotlib\n"
     ]
    }
   ],
   "source": [
    "%pylab inline\n",
    "%load_ext autoreload\n",
    "%autoreload 2\n",
    "\n",
    "from riboraptor.kmer import fastq_kmer_histogram\n",
    "\n",
    "def get_top_kmers(kmer_series):\n",
    "    \"\"\"Return all kmers with cumulative sum <=50,\n",
    "    because we won't need mroe than that.\n",
    "    \"\"\"\n",
    "    cumsum = kmer_series.cumsum()\n",
    "    return kmer_series[cumsum<=70]\n",
    "    "
   ]
  },
  {
   "cell_type": "code",
   "execution_count": 11,
   "metadata": {},
   "outputs": [],
   "source": [
    "fastqs = {'17nt': '/staging/as/skchoudh/re-ribo-analysis/hg38/SRP098789/sratofastq/SRR5227288.fastq.gz',\n",
    "         '17nt_post_trimming': '/staging/as/skchoudh/re-ribo-analysis/hg38/SRP098789/preprocessed/SRR5227288_trimmed.fq.gz',\n",
    "         '13nt': '/home/cmb-06/as/skchoudh/dna/Dec_12_2017_Penalva_RPS5_Riboseq/Penalva_L_12112017/RPS5_C2_S2_L001_R1_001.fastq.gz',\n",
    "         '13nt_post_trimming': '/home/cmb-panasas2/skchoudh/rna/Dec_12_2017_Penalva_RPS5_RNAseq_and_Riboseq/preprocessed/RPS5_C2_S2_L001_R1_001_trimmed.fq.gz',\n",
    "         'ambiguous': '/staging/as/skchoudh/re-ribo-analysis/hg38/SRP031501_human_remap_v2/sratofastq/SRR1562541.fastq.gz',\n",
    "          'erx': '/staging/as/wenzhenl/re-ribo-data/ERP005378/ERX432360/ERR466125.fastq',\n",
    "          'x': '/staging/as/skchoudh/re-ribo-analysis/hg38/SRP017942_human/preprocessed/SRR648667_trimmed.fq.gz',\n",
    "          'x1': '/staging/as/skchoudh/re-ribo-analysis/hg38/SRP017942_human/sratofastq/SRR648667.fastq.gz',\n",
    "         }\n",
    "histograms = {k:{} for k in fastqs.keys()}"
   ]
  },
  {
   "cell_type": "code",
   "execution_count": 12,
   "metadata": {},
   "outputs": [
    {
     "name": "stderr",
     "output_type": "stream",
     "text": [
      "100%|██████████| 1000000/1000000 [00:40<00:00, 24896.60it/s]\n"
     ]
    }
   ],
   "source": [
    "histogram['x1'] = fastq_kmer_histogram(fastqs['x1'])"
   ]
  },
  {
   "cell_type": "code",
   "execution_count": 27,
   "metadata": {},
   "outputs": [
    {
     "data": {
      "text/plain": [
       "AAAAAAAAAA    36.3307\n",
       "TAAAAAAAAA     7.6097\n",
       "TTAAAAAAAA     2.9769\n",
       "CTAAAAAAAA     2.5666\n",
       "GTCGCTAAAA     2.0680\n",
       "GTCGCTTAAA     1.6824\n",
       "CAAAAAAAAA     1.4877\n",
       "TCGCTAAAAA     1.3427\n",
       "TCGCTTAAAA     1.3266\n",
       "CTTAAAAAAA     1.0976\n",
       "AAAAAAAAAT     0.7001\n",
       "GAGGCCAAAA     0.5537\n",
       "CCCCAAAAAA     0.4851\n",
       "GAAAAAAAAA     0.4645\n",
       "GTCGCAAAAA     0.4182\n",
       "ATAAAAAAAA     0.4051\n",
       "CCAAAAAAAA     0.3651\n",
       "CCCCCGAAAA     0.3644\n",
       "CCCCCAAAAA     0.3518\n",
       "AAAAAAAATC     0.3499\n",
       "GTCCCCAAAA     0.3366\n",
       "TCAAAAAAAA     0.3194\n",
       "GCAAAAAAAA     0.3063\n",
       "GTAAAAAAAA     0.3053\n",
       "TCGCAAAAAA     0.2893\n",
       "CCCAAAAAAA     0.2483\n",
       "GGGGAAAAAA     0.2355\n",
       "ACAAAAAAAA     0.2257\n",
       "AATAAAAAAA     0.2074\n",
       "GGAAAAAAAA     0.2060\n",
       "               ...   \n",
       "GACAATAATT     0.0001\n",
       "TGTTTGAGAA     0.0001\n",
       "GACAAGACTA     0.0001\n",
       "GACAAGAGAA     0.0001\n",
       "GACAAGAGTA     0.0001\n",
       "TGTTTGACAA     0.0001\n",
       "GACAAGCGAC     0.0001\n",
       "GACAAGCTAA     0.0001\n",
       "GACAAGCTAT     0.0001\n",
       "TGTTTGAAGA     0.0001\n",
       "GACAAGGACA     0.0001\n",
       "GACAAGGATA     0.0001\n",
       "GACAAGTGAA     0.0001\n",
       "TGTTTGAAAT     0.0001\n",
       "GACAATACAA     0.0001\n",
       "GACACAGGCG     0.0001\n",
       "GACAATAGCA     0.0001\n",
       "GACAATATAA     0.0001\n",
       "GACAATCAAA     0.0001\n",
       "GACAATCTAA     0.0001\n",
       "GACAATTAAA     0.0001\n",
       "TGTTTCTTCA     0.0001\n",
       "GACACAATAA     0.0001\n",
       "GACACACAAT     0.0001\n",
       "GACACACATA     0.0001\n",
       "GACACACTAA     0.0001\n",
       "GACACAGCCA     0.0001\n",
       "GACACAGGAA     0.0001\n",
       "GACACAGGCA     0.0001\n",
       "TTTTTTTCAA     0.0001\n",
       "Length: 46363, dtype: float64"
      ]
     },
     "execution_count": 27,
     "metadata": {},
     "output_type": "execute_result"
    }
   ],
   "source": [
    "histogram['x1'][10]"
   ]
  },
  {
   "cell_type": "code",
   "execution_count": 6,
   "metadata": {},
   "outputs": [
    {
     "name": "stderr",
     "output_type": "stream",
     "text": [
      "100%|██████████| 1000000/1000000 [00:40<00:00, 24397.06it/s]\n"
     ]
    }
   ],
   "source": [
    "histogram = fastq_kmer_histogram(fastqs['x'])"
   ]
  },
  {
   "cell_type": "code",
   "execution_count": 13,
   "metadata": {},
   "outputs": [
    {
     "data": {
      "text/plain": [
       "AAAAAAAAAA    31.6444\n",
       "CTAAAAAAAA     5.2577\n",
       "TAAAAAAAAA     4.5794\n",
       "CTTAAAAAAA     2.8291\n",
       "GCTAAAAAAA     2.3622\n",
       "CGTCGCTAAA     2.0539\n",
       "TTAAAAAAAA     1.6895\n",
       "CGTCGCTTAA     1.6741\n",
       "CAAAAAAAAA     1.5404\n",
       "GTCGCTAAAA     1.3243\n",
       "GTCGCTTAAA     1.3211\n",
       "GCTTAAAAAA     1.0859\n",
       "AAAAAAAAAT     0.5751\n",
       "GCAAAAAAAA     0.5717\n",
       "CGAGGCCAAA     0.5497\n",
       "CCAAAAAAAA     0.5308\n",
       "TCCCCAAAAA     0.4070\n",
       "CGTCGCAAAA     0.4064\n",
       "ATAAAAAAAA     0.3838\n",
       "GAAAAAAAAA     0.3732\n",
       "TCCCCCGAAA     0.3558\n",
       "TCCCCCAAAA     0.3421\n",
       "GGTCCCCAAA     0.3352\n",
       "GTAAAAAAAA     0.3000\n",
       "GTCGCAAAAA     0.2495\n",
       "CTGCGGCGGG     0.2296\n",
       "CTCAAAAAAA     0.2295\n",
       "AATAAAAAAA     0.2236\n",
       "GCCAAAAAAA     0.2080\n",
       "TCAAAAAAAA     0.2045\n",
       "               ...   \n",
       "GCAAGAAATA     0.0001\n",
       "GCAAGAAAGT     0.0001\n",
       "GCAAGAAAGA     0.0001\n",
       "TTGGGATGAA     0.0001\n",
       "GCAAGCAAAC     0.0001\n",
       "GCAAGCAGAA     0.0001\n",
       "TTGGGAGTCA     0.0001\n",
       "GCAAGCAGGG     0.0001\n",
       "GCAAGGTTCA     0.0001\n",
       "GCAAGGTTAA     0.0001\n",
       "GCAAGGTGAA     0.0001\n",
       "GCAAGGTCAA     0.0001\n",
       "GCAAGGTATC     0.0001\n",
       "GCAAGGGCCA     0.0001\n",
       "GCAAGGGAAA     0.0001\n",
       "GCAAGGCGAT     0.0001\n",
       "GCAAGGCGAA     0.0001\n",
       "GCAAGGATGT     0.0001\n",
       "GCAAGGAGAA     0.0001\n",
       "GCAAGGACAG     0.0001\n",
       "GCAAGGAATA     0.0001\n",
       "GCAAGGAAAT     0.0001\n",
       "TTGGGAGTGT     0.0001\n",
       "GCAAGCTGAT     0.0001\n",
       "GCAAGCTGAA     0.0001\n",
       "GCAAGCTACT     0.0001\n",
       "GCAAGCCTAA     0.0001\n",
       "GCAAGCCATA     0.0001\n",
       "GCAAGCAGTA     0.0001\n",
       "CTTTTCCTGA     0.0001\n",
       "Length: 67522, dtype: float64"
      ]
     },
     "execution_count": 13,
     "metadata": {},
     "output_type": "execute_result"
    }
   ],
   "source": [
    "histogram[10]"
   ]
  },
  {
   "cell_type": "code",
   "execution_count": 3,
   "metadata": {},
   "outputs": [
    {
     "name": "stderr",
     "output_type": "stream",
     "text": [
      "100%|██████████| 1000000/1000000 [00:55<00:00, 18028.62it/s]\n",
      "100%|██████████| 1000000/1000000 [00:43<00:00, 23149.70it/s]\n",
      "100%|██████████| 1000000/1000000 [01:03<00:00, 15699.47it/s]\n",
      "100%|██████████| 1000000/1000000 [00:37<00:00, 26473.23it/s]\n",
      "100%|██████████| 1000000/1000000 [00:32<00:00, 30729.49it/s]\n",
      "100%|██████████| 1000000/1000000 [00:33<00:00, 29892.64it/s]\n"
     ]
    }
   ],
   "source": [
    "\n",
    "for key, fastq in fastqs.items():\n",
    "    histograms[key] = fastq_kmer_histogram(fastq)"
   ]
  },
  {
   "cell_type": "markdown",
   "metadata": {},
   "source": [
    "# A Dataset with 17nt adapter\n",
    "\n",
    "The adapter for this dataset is 17nt long: CTGTAGGCACCATCAAT\n",
    "We will first consider looking at the raw fastq to see if we find any enriched sequences.\n"
   ]
  },
  {
   "cell_type": "code",
   "execution_count": 5,
   "metadata": {},
   "outputs": [
    {
     "data": {
      "text/plain": [
       "CACCATCAATAGATCGG    13.1623\n",
       "GCACCATCAATAGATCG    13.0374\n",
       "AGGCACCATCAATAGAT    12.9194\n",
       "GGCACCATCAATAGATC    12.8873\n",
       "ACCATCAATAGATCGGA     7.7049\n",
       "TAGGCACCATCAATAGA     6.1639\n",
       "dtype: float64"
      ]
     },
     "execution_count": 5,
     "metadata": {},
     "output_type": "execute_result"
    }
   ],
   "source": [
    "get_top_kmers(histograms['17nt'][17])\n",
    "#AGATCGGAAGAGC\n",
    "#CACCATCAATAGATCGG"
   ]
  },
  {
   "cell_type": "markdown",
   "metadata": {},
   "source": [
    "There does seem to be enrichment of some 17nt sequences (collpasing them on Levenshtein distance will lead to one sequence being >50%)"
   ]
  },
  {
   "cell_type": "code",
   "execution_count": 6,
   "metadata": {},
   "outputs": [
    {
     "data": {
      "text/plain": [
       "CTGTAGGCACCATCAAT    55.4321\n",
       "CTGTAGGCCCCATCAAT     9.0573\n",
       "GACCCGGTGAGGCGGGG     3.8465\n",
       "dtype: float64"
      ]
     },
     "execution_count": 6,
     "metadata": {},
     "output_type": "execute_result"
    }
   ],
   "source": [
    "get_top_kmers(histograms['17nt_post_trimming'][17])"
   ]
  },
  {
   "cell_type": "markdown",
   "metadata": {},
   "source": [
    "This should also highlight the need to trim twice. Let's look at the original 17nt enrichment sequence (before anytrimming). The top sequence is:\n",
    "\n",
    "CACCATCAATAGATCGG. Looking closely, it should not be difficult to realize that there is illumina standard adapter (`AGATCGGAAGAGC`) thrown somewhere in between.\n",
    "\n",
    "CACCATCAAT**AGATCGG**. So trimming gets rid of these partial adapters and the rest of the overrepresented sequence shows enrichment, which is not so clear\n",
    "without trimming.\n",
    "\n",
    "To make sure 17nt indeed is the adapter, we can go one nucleotide up:\n"
   ]
  },
  {
   "cell_type": "code",
   "execution_count": 9,
   "metadata": {},
   "outputs": [
    {
     "data": {
      "text/plain": [
       "GCTGTAGGCACCATCAAT    22.4646\n",
       "TCTGTAGGCACCATCAAT    11.7972\n",
       "CCTGTAGGCACCATCAAT    11.4453\n",
       "ACTGTAGGCACCATCAAT     9.7249\n",
       "GCTGTAGGCCCCATCAAT     4.9783\n",
       "TGACCCGGTGAGGCGGGG     3.8444\n",
       "ACTGACCCGGTGAGGCGG     1.9585\n",
       "TCTGTAGGCCCCATCAAT     1.4981\n",
       "CCTGTAGGCCCCATCAAT     1.4754\n",
       "dtype: float64"
      ]
     },
     "execution_count": 9,
     "metadata": {},
     "output_type": "execute_result"
    }
   ],
   "source": [
    "get_top_kmers(histograms['17nt_post_trimming'][18])\n"
   ]
  },
  {
   "cell_type": "code",
   "execution_count": 10,
   "metadata": {},
   "outputs": [
    {
     "data": {
      "text/plain": [
       "GCTGTAGGCACCATCAAT    22.4646\n",
       "TCTGTAGGCACCATCAAT    11.7972\n",
       "CCTGTAGGCACCATCAAT    11.4453\n",
       "ACTGTAGGCACCATCAAT     9.7249\n",
       "GCTGTAGGCCCCATCAAT     4.9783\n",
       "TGACCCGGTGAGGCGGGG     3.8444\n",
       "ACTGACCCGGTGAGGCGG     1.9585\n",
       "TCTGTAGGCCCCATCAAT     1.4981\n",
       "CCTGTAGGCCCCATCAAT     1.4754\n",
       "CTGACCCGGTGAGGCGGG     1.4109\n",
       "ACTGTAGGCCCCATCAAT     1.1055\n",
       "GGCGGGGCTGTAGGCACC     0.9578\n",
       "GTGAGGCGGGGCTGTAGG     0.7923\n",
       "GACCCGGTGAGGCGGGGC     0.7595\n",
       "CACTGACCCGGTGAGGCG     0.7122\n",
       "GGGCTGTAGGCACCATCA     0.5397\n",
       "CCGGTGAGGCGGGGCTGT     0.5084\n",
       "ACTGTAGGCACCCTCAAT     0.4479\n",
       "GCCGCGACCGGCTCCGGG     0.4157\n",
       "TCTGTAGGCACCCTCAAT     0.4076\n",
       "GGCTCCGGGACGGCTGGG     0.3964\n",
       "GCTGTAGGCACCCTCAAT     0.2938\n",
       "TCACTGACCCGGTGAGGC     0.2928\n",
       "TTTTTCACTGACCCGGTG     0.2900\n",
       "CCTGTAGGCACCCTCAAT     0.2715\n",
       "CGGCTCCGGGACGGCTGG     0.2571\n",
       "CCGGGACGGCTGGGCTGT     0.2371\n",
       "ACCCGGTGAGGCGGGGCT     0.2361\n",
       "TTCACTGACCCGGTGAGG     0.2254\n",
       "CCGGCTCCGGGACGGCTG     0.2081\n",
       "                       ...   \n",
       "GCTCGACCTGAGAGACCC     0.0001\n",
       "GCTCGAAGTTAGATCTTG     0.0001\n",
       "GCTCGAAAGGGAGTCGGG     0.0001\n",
       "GCTCCTTCCATCTATCTG     0.0001\n",
       "GCTCCTGTCTTTAGGCAC     0.0001\n",
       "GCTCCTGGCTGTAGGCAC     0.0001\n",
       "GCTCCTGGCTGGCTCGCC     0.0001\n",
       "GCTCCTGGCAGGATCAAT     0.0001\n",
       "GCTCCTGGACTTCTCTGT     0.0001\n",
       "GCTCGCGCCATCTTCTGT     0.0001\n",
       "GCTCGCGTGCTGATCCGC     0.0001\n",
       "GCTCGCTCACCCTCGAGC     0.0001\n",
       "GCTCGGGGGACTGTAGGC     0.0001\n",
       "GCTCGGGTAAACGGCGGG     0.0001\n",
       "GCTCGGGGGGNTGTAGGC     0.0001\n",
       "GCTCGGGGGGCTGTAGTC     0.0001\n",
       "GCTCGGGGGGCTGAAGGC     0.0001\n",
       "GCTCGGGGGGCTATAGGC     0.0001\n",
       "GCTCGGGGGGCCTGTAGG     0.0001\n",
       "GCTCGGGGGGATGTAGGC     0.0001\n",
       "GCTCGGGGCTCGCTGCGC     0.0001\n",
       "GCTCGCTGTAGGCACCAT     0.0001\n",
       "GCTCGGGGAGGACACGGT     0.0001\n",
       "GCTCGGGCTGTAGGCACC     0.0001\n",
       "GCTCGGGCCGCCTTGACC     0.0001\n",
       "GCTCGGGACAGGGGACGG     0.0001\n",
       "GCTCGGCGTGGCGGCGTT     0.0001\n",
       "GCTCGGCCGATCGAAAGG     0.0001\n",
       "GCTCGGAATAATGGCTGT     0.0001\n",
       "GAAATGTGGCGTACCTGT     0.0001\n",
       "Length: 46871, dtype: float64"
      ]
     },
     "execution_count": 10,
     "metadata": {},
     "output_type": "execute_result"
    }
   ],
   "source": [
    "histograms['17nt_post_trimming'][18]"
   ]
  },
  {
   "cell_type": "markdown",
   "metadata": {},
   "source": [
    "# Dataset with 13nt adapter\n",
    "\n",
    "Let's try do do the same with a fastq where we know the adpter is 13 nt long.\n"
   ]
  },
  {
   "cell_type": "code",
   "execution_count": 8,
   "metadata": {},
   "outputs": [
    {
     "data": {
      "text/plain": [
       "AAGAGCACACGTC    16.1245\n",
       "AGAGCACACGTCT    14.1972\n",
       "GAGCACACGTCTG     9.9697\n",
       "GAAGAGCACACGT     9.1139\n",
       "AGCACACGTCTGA     8.7303\n",
       "GGAAGAGCACACG     8.2685\n",
       "dtype: float64"
      ]
     },
     "execution_count": 8,
     "metadata": {},
     "output_type": "execute_result"
    }
   ],
   "source": [
    "get_top_kmers(histograms['13nt'][13])\n"
   ]
  },
  {
   "cell_type": "markdown",
   "metadata": {},
   "source": [
    "Again, the first four sequences are essentially within a Levenshtein distance of 1-2nt.\n"
   ]
  },
  {
   "cell_type": "code",
   "execution_count": 9,
   "metadata": {},
   "outputs": [
    {
     "data": {
      "text/plain": [
       "GAAGAGCACACGTC    16.1145\n",
       "AAGAGCACACGTCT    14.1804\n",
       "AGAGCACACGTCTG     9.9658\n",
       "GGAAGAGCACACGT     9.1067\n",
       "GAGCACACGTCTGA     8.7169\n",
       "CGGAAGAGCACACG     8.2564\n",
       "dtype: float64"
      ]
     },
     "execution_count": 9,
     "metadata": {},
     "output_type": "execute_result"
    }
   ],
   "source": [
    "get_top_kmers(histograms['13nt'][14])\n"
   ]
  },
  {
   "cell_type": "code",
   "execution_count": 10,
   "metadata": {},
   "outputs": [
    {
     "data": {
      "text/plain": [
       "GGAAGAGCACACGTC    16.1013\n",
       "GAAGAGCACACGTCT    14.1736\n",
       "AAGAGCACACGTCTG     9.9550\n",
       "CGGAAGAGCACACGT     9.0890\n",
       "AGAGCACACGTCTGA     8.7135\n",
       "TCGGAAGAGCACACG     8.2518\n",
       "dtype: float64"
      ]
     },
     "execution_count": 10,
     "metadata": {},
     "output_type": "execute_result"
    }
   ],
   "source": [
    "get_top_kmers(histograms['13nt'][15])\n"
   ]
  },
  {
   "cell_type": "code",
   "execution_count": 11,
   "metadata": {},
   "outputs": [
    {
     "data": {
      "text/plain": [
       "TCGGAAGAGCACACGTC    16.0734\n",
       "CGGAAGAGCACACGTCT    14.1419\n",
       "GGAAGAGCACACGTCTG     9.9349\n",
       "ATCGGAAGAGCACACGT     9.0782\n",
       "GAAGAGCACACGTCTGA     8.6985\n",
       "GATCGGAAGAGCACACG     8.2462\n",
       "dtype: float64"
      ]
     },
     "execution_count": 11,
     "metadata": {},
     "output_type": "execute_result"
    }
   ],
   "source": [
    "get_top_kmers(histograms['13nt'][17])\n"
   ]
  },
  {
   "cell_type": "code",
   "execution_count": 12,
   "metadata": {},
   "outputs": [
    {
     "data": {
      "text/plain": [
       "AGATCGGAAGAGCACACGTC    16.0616\n",
       "GATCGGAAGAGCACACGTCT    14.1262\n",
       "ATCGGAAGAGCACACGTCTG     9.9163\n",
       "TCGGAAGAGCACACGTCTGA     8.6758\n",
       "CGGAAGAGCACACGTCTGAA     4.6175\n",
       "GGAAGAGCACACGTCTGAAC     4.1324\n",
       "GAGATCGGAAGAGCACACGT     3.3973\n",
       "AAGATCGGAAGAGCACACGT     2.2540\n",
       "GAAGATCGGAAGAGCACACG     2.2406\n",
       "TAGATCGGAAGAGCACACGT     2.1943\n",
       "GAAGAGCACACGTCTGAACT     1.9141\n",
       "dtype: float64"
      ]
     },
     "execution_count": 12,
     "metadata": {},
     "output_type": "execute_result"
    }
   ],
   "source": [
    "get_top_kmers(histograms['13nt'][20])\n"
   ]
  },
  {
   "cell_type": "code",
   "execution_count": 13,
   "metadata": {},
   "outputs": [
    {
     "data": {
      "text/plain": [
       "AGATCGGAAGAGCACACGTCT    14.1236\n",
       "GATCGGAAGAGCACACGTCTG     9.9142\n",
       "ATCGGAAGAGCACACGTCTGA     8.6733\n",
       "AAGATCGGAAGAGCACACGTC     6.2070\n",
       "TAGATCGGAAGAGCACACGTC     4.6852\n",
       "TCGGAAGAGCACACGTCTGAA     4.6157\n",
       "CGGAAGAGCACACGTCTGAAC     4.1277\n",
       "GAGATCGGAAGAGCACACGTC     3.5576\n",
       "GGAAGAGCACACGTCTGAACT     1.9112\n",
       "GAAGATCGGAAGAGCACACGT     1.7736\n",
       "CAGATCGGAAGAGCACACGTC     1.6118\n",
       "ATTAGATCGGAAGAGCACACG     1.5639\n",
       "TTAGATCGGAAGAGCACACGT     1.4197\n",
       "GGAGATCGGAAGAGCACACGT     1.3926\n",
       "GAAGAGCACACGTCTGAACTC     1.0232\n",
       "CGAGATCGGAAGAGCACACGT     0.9139\n",
       "TGAAAGATCGGAAGAGCACAC     0.8508\n",
       "TGAAGATCGGAAGAGCACACG     0.8373\n",
       "AGAGATCGGAAGAGCACACGT     0.7603\n",
       "dtype: float64"
      ]
     },
     "execution_count": 13,
     "metadata": {},
     "output_type": "execute_result"
    }
   ],
   "source": [
    "get_top_kmers(histograms['13nt'][21])\n"
   ]
  },
  {
   "cell_type": "markdown",
   "metadata": {},
   "source": [
    "Again, not sure where should we stop. Let's do this on the trimmed dataset"
   ]
  },
  {
   "cell_type": "code",
   "execution_count": 14,
   "metadata": {},
   "outputs": [
    {
     "data": {
      "text/plain": [
       "GAGCG    7.8018\n",
       "AGCGA    7.0808\n",
       "GGCTT    5.6907\n",
       "CTGGG    3.1384\n",
       "TGGGG    2.9078\n",
       "dtype: float64"
      ]
     },
     "execution_count": 14,
     "metadata": {},
     "output_type": "execute_result"
    }
   ],
   "source": [
    "get_top_kmers(histograms['13nt_post_trimming'][5])[0:5]\n"
   ]
  },
  {
   "cell_type": "markdown",
   "metadata": {},
   "source": [
    "It look's good now. This doesn't require a second pass at trimming!"
   ]
  },
  {
   "cell_type": "code",
   "execution_count": 4,
   "metadata": {},
   "outputs": [
    {
     "name": "stderr",
     "output_type": "stream",
     "text": [
      "100%|██████████| 1000000/1000000 [00:39<00:00, 25324.65it/s]\n"
     ]
    }
   ],
   "source": [
    "histogram_new = fastq_kmer_histogram('/staging/as/skchoudh/re-ribo-analysis/hg38/SRP098789_v2/preprocessed_step1/SRR5227288_trimmed.fq.gz')\n"
   ]
  },
  {
   "cell_type": "code",
   "execution_count": 12,
   "metadata": {},
   "outputs": [
    {
     "data": {
      "text/plain": [
       "GCTGTAGGCACCATCAAT    36.1142\n",
       "TCTGTAGGCACCATCAAT    19.0112\n",
       "ACTGTAGGCACCATCAAT    16.5742\n",
       "CCTGTAGGCACCATCAAT    14.6395\n",
       "ACTGTCGGCACCATCAAT     1.2002\n",
       "GCTGTCGGCACCATCAAT     1.0011\n",
       "GGGCTGTAGGCACCATCA     0.9473\n",
       "CCTGTCGGCACCATCAAT     0.6980\n",
       "GCTGTAGGCCCCATCAAT     0.5891\n",
       "TCTGTCGGCACCATCAAT     0.4345\n",
       "GCACCATCAATAAATCGG     0.4294\n",
       "TGACCCGGTGAGGCGGGG     0.3068\n",
       "CACCATCAATAAATCGGA     0.1880\n",
       "CCTGTAGGCCCCATCAAT     0.1849\n",
       "TCTGTAGGCCCCATCAAT     0.1825\n",
       "ACTGTAGGCCCCATCAAT     0.1443\n",
       "GCCGTAGGCACCATCAAT     0.1339\n",
       "GTTGTAGGCACCATCAAT     0.1229\n",
       "ACTGACCCGGTGAGGCGG     0.1141\n",
       "GGCGGGGCTGTAGGCACC     0.1084\n",
       "CTGACCCGGTGAGGCGGG     0.0882\n",
       "TCCGTAGGCACCATCAAT     0.0802\n",
       "ACCGTAGGCACCATCAAT     0.0722\n",
       "GCTGTAGGTACCATCAAT     0.0635\n",
       "GTGAGGCGGGGCTGTAGG     0.0634\n",
       "GCTGTAGGCACCCTCAAT     0.0607\n",
       "GGCTGTAGGCACATCAAT     0.0607\n",
       "GGCTGTAGGCACCATCAT     0.0604\n",
       "ACTGTAGGCACCCTCAAT     0.0556\n",
       "GCTGTAGGCACCATCAAA     0.0550\n",
       "                       ...   \n",
       "GCTCCGGTACGGCTGGGT     0.0001\n",
       "GCTCCGGTACGGCTGGTC     0.0001\n",
       "GCTCCGTCTCACTGTCGG     0.0001\n",
       "GCTCCGTTACGGCTGGGC     0.0001\n",
       "GCTCCTGTCGGCACCATC     0.0001\n",
       "GCTATGACTCCGGGAGCG     0.0001\n",
       "GCTATCACTTTAGGCACC     0.0001\n",
       "GCTAGGACTGTAGGCACC     0.0001\n",
       "GCTACCTGTAGGCACCAT     0.0001\n",
       "GCGTTGCAGGGAGTGGCT     0.0001\n",
       "GCGTTGTAGTCACCATCA     0.0001\n",
       "GCNNCANNAATANNTCGG     0.0001\n",
       "GCTAACTAGTTACGCGAC     0.0001\n",
       "GCTAAGACTTCACCAGAC     0.0001\n",
       "GCTAAGACTTCACCAGTC     0.0001\n",
       "GCTAATACTGTAAGCACC     0.0001\n",
       "GCTAATCCTGTAGGCACC     0.0001\n",
       "GCTACCCCTGTCTGAACG     0.0001\n",
       "GCTACCTTTCCGAGGCGG     0.0001\n",
       "GCTAGAGGGCACTGTAGG     0.0001\n",
       "GCTACGAGCTGTAGGCAC     0.0001\n",
       "GCTACGCCGCGACGAGTC     0.0001\n",
       "GCTACGCCTGTCAGAGCG     0.0001\n",
       "GCTACGCCTGTCTGAACG     0.0001\n",
       "GCTACGCCTGTCTGAGCC     0.0001\n",
       "GCTACGCCTGTCTGATCG     0.0001\n",
       "GCTACGCCTGTCTTAGCG     0.0001\n",
       "GCTACGTCTGTCTGAGCG     0.0001\n",
       "GCTACTGTAGGCACCATC     0.0001\n",
       "GACTGTAGGCCCATCGAT     0.0001\n",
       "Length: 7803, dtype: float64"
      ]
     },
     "execution_count": 12,
     "metadata": {},
     "output_type": "execute_result"
    }
   ],
   "source": [
    "histogram_new[18]\n"
   ]
  },
  {
   "cell_type": "code",
   "execution_count": 13,
   "metadata": {},
   "outputs": [
    {
     "data": {
      "text/plain": [
       "GCTGTAGGCACCATCAAT    22.4646\n",
       "TCTGTAGGCACCATCAAT    11.7972\n",
       "CCTGTAGGCACCATCAAT    11.4453\n",
       "ACTGTAGGCACCATCAAT     9.7249\n",
       "GCTGTAGGCCCCATCAAT     4.9783\n",
       "TGACCCGGTGAGGCGGGG     3.8444\n",
       "ACTGACCCGGTGAGGCGG     1.9585\n",
       "TCTGTAGGCCCCATCAAT     1.4981\n",
       "CCTGTAGGCCCCATCAAT     1.4754\n",
       "CTGACCCGGTGAGGCGGG     1.4109\n",
       "ACTGTAGGCCCCATCAAT     1.1055\n",
       "GGCGGGGCTGTAGGCACC     0.9578\n",
       "GTGAGGCGGGGCTGTAGG     0.7923\n",
       "GACCCGGTGAGGCGGGGC     0.7595\n",
       "CACTGACCCGGTGAGGCG     0.7122\n",
       "GGGCTGTAGGCACCATCA     0.5397\n",
       "CCGGTGAGGCGGGGCTGT     0.5084\n",
       "ACTGTAGGCACCCTCAAT     0.4479\n",
       "GCCGCGACCGGCTCCGGG     0.4157\n",
       "TCTGTAGGCACCCTCAAT     0.4076\n",
       "GGCTCCGGGACGGCTGGG     0.3964\n",
       "GCTGTAGGCACCCTCAAT     0.2938\n",
       "TCACTGACCCGGTGAGGC     0.2928\n",
       "TTTTTCACTGACCCGGTG     0.2900\n",
       "CCTGTAGGCACCCTCAAT     0.2715\n",
       "CGGCTCCGGGACGGCTGG     0.2571\n",
       "CCGGGACGGCTGGGCTGT     0.2371\n",
       "ACCCGGTGAGGCGGGGCT     0.2361\n",
       "TTCACTGACCCGGTGAGG     0.2254\n",
       "CCGGCTCCGGGACGGCTG     0.2081\n",
       "                       ...   \n",
       "GCTCGACCTGAGAGACCC     0.0001\n",
       "GCTCGAAGTTAGATCTTG     0.0001\n",
       "GCTCGAAAGGGAGTCGGG     0.0001\n",
       "GCTCCTTCCATCTATCTG     0.0001\n",
       "GCTCCTGTCTTTAGGCAC     0.0001\n",
       "GCTCCTGGCTGTAGGCAC     0.0001\n",
       "GCTCCTGGCTGGCTCGCC     0.0001\n",
       "GCTCCTGGCAGGATCAAT     0.0001\n",
       "GCTCCTGGACTTCTCTGT     0.0001\n",
       "GCTCGCGCCATCTTCTGT     0.0001\n",
       "GCTCGCGTGCTGATCCGC     0.0001\n",
       "GCTCGCTCACCCTCGAGC     0.0001\n",
       "GCTCGGGGGACTGTAGGC     0.0001\n",
       "GCTCGGGTAAACGGCGGG     0.0001\n",
       "GCTCGGGGGGNTGTAGGC     0.0001\n",
       "GCTCGGGGGGCTGTAGTC     0.0001\n",
       "GCTCGGGGGGCTGAAGGC     0.0001\n",
       "GCTCGGGGGGCTATAGGC     0.0001\n",
       "GCTCGGGGGGCCTGTAGG     0.0001\n",
       "GCTCGGGGGGATGTAGGC     0.0001\n",
       "GCTCGGGGCTCGCTGCGC     0.0001\n",
       "GCTCGCTGTAGGCACCAT     0.0001\n",
       "GCTCGGGGAGGACACGGT     0.0001\n",
       "GCTCGGGCTGTAGGCACC     0.0001\n",
       "GCTCGGGCCGCCTTGACC     0.0001\n",
       "GCTCGGGACAGGGGACGG     0.0001\n",
       "GCTCGGCGTGGCGGCGTT     0.0001\n",
       "GCTCGGCCGATCGAAAGG     0.0001\n",
       "GCTCGGAATAATGGCTGT     0.0001\n",
       "GAAATGTGGCGTACCTGT     0.0001\n",
       "Length: 46871, dtype: float64"
      ]
     },
     "execution_count": 13,
     "metadata": {},
     "output_type": "execute_result"
    }
   ],
   "source": [
    "histograms['17nt_post_trimming'][18]"
   ]
  },
  {
   "cell_type": "code",
   "execution_count": null,
   "metadata": {},
   "outputs": [],
   "source": []
  }
 ],
 "metadata": {
  "kernelspec": {
   "display_name": "Python (riboraptor_clean)",
   "language": "python",
   "name": "riboraptor_clean"
  },
  "language_info": {
   "codemirror_mode": {
    "name": "ipython",
    "version": 3
   },
   "file_extension": ".py",
   "mimetype": "text/x-python",
   "name": "python",
   "nbconvert_exporter": "python",
   "pygments_lexer": "ipython3",
   "version": "3.5.5"
  }
 },
 "nbformat": 4,
 "nbformat_minor": 2
}
