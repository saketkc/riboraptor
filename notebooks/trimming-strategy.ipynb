{
 "cells": [
  {
   "cell_type": "markdown",
   "metadata": {},
   "source": [
    "# Detecting adapters\n",
    "\n",
    "For datasets where the adapter is tricky in situations where non-standard adapters have been used or a barcode exists adjacent to the adapter."
   ]
  },
  {
   "cell_type": "markdown",
   "metadata": {},
   "source": [
    "# 3' adapters\n",
    "\n",
    "This section is borrowed and copied as it is from the `cutadapt` [manual](https://cutadapt.readthedocs.io/en/v1.7.1/guide.html).\n",
    "\n",
    "\n",
    "A 3’ adapter is a piece of DNA ligated to the 3’\n",
    "end of the DNA fragment you are interested in. \n",
    "The sequencer starts the sequencing process at the 5’\n",
    "end of the fragment and sequences into the adapter\n",
    "if the read is long enough. \n",
    "\n",
    "The read that it outputs will then have a part of\n",
    "the adapter in the end. Or, if the adapter was \n",
    "short and the read length quite long, then the adapter\n",
    "will be somewhere within the read (followed by other bases).\n",
    "\n",
    "For example, assume your fragment of interest\n",
    "is MYSEQUENCE and the adapter is ADAPTER. \n",
    "Depending on the read length, \n",
    "you will get reads that look like this:\n",
    "\n",
    "```\n",
    "MYSEQUEN\n",
    "MYSEQUENCEADAP\n",
    "MYSEQUENCEADAPTER\n",
    "MYSEQUENCEADAPTERSOMETHINGELSE\n",
    "```\n",
    "\n",
    "Use cutadapt’s -a ADAPTER option to remove this type of adapter. This will be the result:\n",
    "\n",
    "```\n",
    "MYSEQUEN\n",
    "MYSEQUENCE\n",
    "MYSEQUENCE\n",
    "MYSEQUENCE\n",
    "```\n",
    "As can be seen, cutadapt correctly deals with partial adapter matches,\n",
    "and also with any trailing sequences after the adapter.\n",
    "Cutadapt deals with 3’ adapters by removing the adapter itself and \n",
    "any sequence that may follow.\n",
    "If the sequence starts with an adapter, like this:\n",
    "```\n",
    "ADAPTERSOMETHING\n",
    "```\n",
    "Then the sequence will be empty after trimming. \n",
    "Note that, by default, empty reads are not discarded and will appear in the output.\n",
    "\n",
    "\n",
    "NOTE: Our adapter in the above case is not \"anchored\" at the end. There is a seprate flag to handle that in `cutadapt`.\n",
    "\n",
    "Here we perform various case studies where `cutadapt`'s auto-detection alone is not useful. \n",
    "\n",
    "The standard adapters are:\n",
    "\n",
    "\n",
    "| Protocol |  Adapter     |\n",
    "|----------|--------------|\n",
    "|Illumina  | AGATCGGAAGAGC|\n",
    "|Small RNA |  TGGAATTCTCGG|\n",
    "|Nextera   |  CTGTCTCTTATA|"
   ]
  },
  {
   "cell_type": "code",
   "execution_count": 1,
   "metadata": {},
   "outputs": [
    {
     "name": "stdout",
     "output_type": "stream",
     "text": [
      "Populating the interactive namespace from numpy and matplotlib\n"
     ]
    },
    {
     "name": "stderr",
     "output_type": "stream",
     "text": [
      "/home/cmb-panasas2/skchoudh/software_frozen/anaconda27/envs/riboraptor/lib/python3.5/importlib/_bootstrap.py:222: RuntimeWarning: numpy.dtype size changed, may indicate binary incompatibility. Expected 96, got 88\n",
      "  return f(*args, **kwds)\n"
     ]
    }
   ],
   "source": [
    "%pylab inline\n",
    "%load_ext autoreload\n",
    "%autoreload 2\n",
    "\n",
    "from riboraptor.kmer import fastq_kmer_histogram\n",
    "\n",
    "def get_top_kmers(kmer_series):\n",
    "    \"\"\"Return all kmers with cumulative sum <=50,\n",
    "    because we won't need mroe than that.\n",
    "    \"\"\"\n",
    "    cumsum = kmer_series.cumsum()\n",
    "    return kmer_series[cumsum<=70]\n",
    "    "
   ]
  },
  {
   "cell_type": "code",
   "execution_count": 2,
   "metadata": {},
   "outputs": [
    {
     "name": "stderr",
     "output_type": "stream",
     "text": [
      "100%|██████████| 1000000/1000000 [00:35<00:00, 28149.68it/s]\n"
     ]
    }
   ],
   "source": [
    "# universal CTGTAGGCACCATCAAT\n",
    "# from https://view.officeapps.live.com/op/view.aspx?src=https://genome.cshlp.org/content/suppl/2015/06/03/gr.191601.115.DC1/Supp_Material.docx\n",
    "# SRP055707 \n",
    "\n",
    "fastq = '/staging/as/skchoudh/re-ribo-analysis/sacCerR64/SRP055707/preprocessed_step1/SRR1822445_trimmed.fq.gz'\n",
    "hist = fastq_kmer_histogram(fastq)\n"
   ]
  },
  {
   "cell_type": "code",
   "execution_count": 8,
   "metadata": {},
   "outputs": [
    {
     "data": {
      "text/plain": [
       "53.43636363636364"
      ]
     },
     "execution_count": 8,
     "metadata": {},
     "output_type": "execute_result"
    }
   ],
   "source": [
    "88.17/1.65"
   ]
  },
  {
   "cell_type": "code",
   "execution_count": 7,
   "metadata": {},
   "outputs": [
    {
     "data": {
      "text/plain": [
       "CTGTAGGCACCATCAAT    88.1721\n",
       "ATCTGTAGGCACCATCA     1.6586\n",
       "CTGTAGGCACCATTAAT     1.2839\n",
       "CTGTAGGCATCATCAAT     1.0176\n",
       "CTGTAGGCACTATCAAT     0.8881\n",
       "CTGTAGGTACCATCAAT     0.7881\n",
       "TTGTAGGCACCATCAAT     0.5786\n",
       "CACCATCAATAGATTGG     0.3255\n",
       "CCACTGTAGGCACCATC     0.1859\n",
       "TTCTGTAGGCACCATCA     0.1696\n",
       "GGCACCATCAATAGATT     0.1633\n",
       "CTCTGTAGGCACCATCA     0.1452\n",
       "GCACCATCAATAGATTG     0.1430\n",
       "GTCTGTAGGCACCATCA     0.1313\n",
       "CTGTAGGAACCATCAAT     0.1179\n",
       "TCCTGTAGGCACCATCA     0.1170\n",
       "ACCTGTAGGCACCATCA     0.1110\n",
       "CATCTGTAGGCACCATC     0.1089\n",
       "ACCATCAATAGATTGGA     0.1078\n",
       "GGCTGTAGGCACCATCA     0.0952\n",
       "CACTGTAGGCACCATCA     0.0948\n",
       "CTGTAGGCACCATAAAT     0.0834\n",
       "TACTGTAGGCACCATCA     0.0833\n",
       "CTGTAGGCACAATCAAT     0.0823\n",
       "AACTGTAGGCACCATCA     0.0652\n",
       "ACTCTGTAGGCACCATC     0.0617\n",
       "CTGTAGGCAACATCAAT     0.0601\n",
       "GACTGTAGGCACCATCA     0.0590\n",
       "ATGTAGGCACCATCAAT     0.0583\n",
       "CGCTGTAGGCACCATCA     0.0538\n",
       "                      ...   \n",
       "GCCTGTAGGCCCCATCA     0.0001\n",
       "GCGGGGGCACGGTAGGC     0.0001\n",
       "GCGGTAATTCCAGCTCC     0.0001\n",
       "GCGGTTCTGACGGGCAA     0.0001\n",
       "GCGTTCCGTCAATGCAT     0.0001\n",
       "GCTCCAAGCTCCCATAC     0.0001\n",
       "GCTATCAGAGCTGACCC     0.0001\n",
       "GCTATACTGTTGCTGTT     0.0001\n",
       "GCTAGCATTTGCTGGTT     0.0001\n",
       "GCTACTTCTGCTTAAAT     0.0001\n",
       "GCTACCGCTGTAGGCAC     0.0001\n",
       "GCTACCCTGTAGGCACC     0.0001\n",
       "GCTAAGGTTACCAAGGC     0.0001\n",
       "GCTAACATCTTCTCTTC     0.0001\n",
       "GCTAACAGAATCTGTGG     0.0001\n",
       "GCGTTCCTGTAGGCACC     0.0001\n",
       "GCGTTATTTCTGTAGGC     0.0001\n",
       "GCGTAATGAAAGTGCTG     0.0001\n",
       "GCGTGGCTGTAGGCACC     0.0001\n",
       "GCGTGGAGGGCTGTAGG     0.0001\n",
       "GCGTGCATAGCGACATT     0.0001\n",
       "GCGTCTGTAGCACCATC     0.0001\n",
       "GCGTCGCTGAACCCTGT     0.0001\n",
       "GCGTCCCTGTAGGCACC     0.0001\n",
       "GCGTCATCTGTAGGCAC     0.0001\n",
       "GCGTCATCTGAGGCACC     0.0001\n",
       "GCGTCACTGTAGGCATC     0.0001\n",
       "GCGTCACTGTAGGCACC     0.0001\n",
       "GCGTATTGCTCGAATAT     0.0001\n",
       "CTTAACCTACTAACTGT     0.0001\n",
       "Length: 4475, dtype: float64"
      ]
     },
     "execution_count": 7,
     "metadata": {},
     "output_type": "execute_result"
    }
   ],
   "source": [
    "hist[17]"
   ]
  },
  {
   "cell_type": "code",
   "execution_count": 60,
   "metadata": {},
   "outputs": [
    {
     "data": {
      "text/plain": [
       "41"
      ]
     },
     "execution_count": 60,
     "metadata": {},
     "output_type": "execute_result"
    }
   ],
   "source": [
    "len('AAGCCCACTCCTGTAGCCAACAACTGTAGGCACCATCAATA')"
   ]
  },
  {
   "cell_type": "code",
   "execution_count": 38,
   "metadata": {},
   "outputs": [],
   "source": [
    "fastqs = {'17nt': '/staging/as/skchoudh/re-ribo-analysis/hg38/SRP098789/sratofastq/SRR5227288.fastq.gz',\n",
    "         '17nt_post_trimming': '/staging/as/skchoudh/re-ribo-analysis/hg38/SRP098789/preprocessed/SRR5227288_trimmed.fq.gz',\n",
    "         '13nt': '/home/cmb-06/as/skchoudh/dna/Dec_12_2017_Penalva_RPS5_Riboseq/Penalva_L_12112017/RPS5_C2_S2_L001_R1_001.fastq.gz',\n",
    "         '13nt_post_trimming': '/home/cmb-panasas2/skchoudh/rna/Dec_12_2017_Penalva_RPS5_RNAseq_and_Riboseq/preprocessed/RPS5_C2_S2_L001_R1_001_trimmed.fq.gz',\n",
    "         'ambiguous': '/staging/as/skchoudh/re-ribo-analysis/hg38/SRP031501_human_versions_before_2pass/SRP031501_human_remap_v2/sratofastq/SRR1562541.fastq.gz',\n",
    "          'erx': '/staging/as/wenzhenl/re-ribo-data/ERP005378/ERX432360/ERR466125.fastq',\n",
    "          '100nt_trimmed_onepass_orig': '/staging/as/skchoudh/re-ribo-analysis/hg38/SRP017942_human/preprocessed/SRR648667_trimmed.fq.gz',\n",
    "          '100nt': '/staging/as/skchoudh/re-ribo-analysis/hg38/SRP017942_human/sratofastq/SRR648667.fastq.gz',\n",
    "          '100nt_trimmed_twopass': '/staging/as/skchoudh/re-ribo-analysis/mm10/SRP031501/preprocessed/SRR1013472_trimmed_trimmed.fq.gz',\n",
    "          '100nt_trimmed_onepass': '/staging/as/skchoudh/re-ribo-analysis/mm10/SRP031501/preprocessed_step1/SRR1013472_trimmed.fq.gz',\n",
    "         }\n",
    "histograms = {k:{} for k in fastqs.keys()}"
   ]
  },
  {
   "cell_type": "code",
   "execution_count": 39,
   "metadata": {},
   "outputs": [
    {
     "name": "stderr",
     "output_type": "stream",
     "text": [
      "100%|██████████| 1000000/1000000 [03:16<00:00, 5096.07it/s]\n"
     ]
    }
   ],
   "source": [
    "histogram1_subsample =  fastq_kmer_histogram('/staging/as/skchoudh/re-ribo-analysis/hg38/SRP098789/preprocessed_step1/SRR5227298_trimmed.fq.gz', drop_probability=0.1)\n"
   ]
  },
  {
   "cell_type": "code",
   "execution_count": 40,
   "metadata": {},
   "outputs": [
    {
     "data": {
      "text/plain": [
       "GACGACCTGCTTCTGTAGGCACCATCAAT    36.6778\n",
       "GGGACGGCTGGGCTGTAGGCACCATCAAT    14.4285\n",
       "ACATGTGGCGTACTGTAGGCACCATCAAT     4.8969\n",
       "GGATCGGGGATTCTGTAGGCACCATCAAT     3.9683\n",
       "CATGTGGCGTACCTGTAGGCACCATCAAT     2.5178\n",
       "GGACGGCTGGGACTGTAGGCACCATCAAT     1.3974\n",
       "CGGGACGGCTGGCTGTAGGCACCATCAAT     0.9344\n",
       "ATGTGGCGTACGCTGTAGGCACCATCAAT     0.8432\n",
       "GGTGAGGCGGGGCTGTAGGCACCATCAAT     0.6032\n",
       "ACTGGCTCAGCGCTGTAGGCACCATCAAT     0.6013\n",
       "GTGGCGTACGGACTGTAGGCACCATCAAT     0.5322\n",
       "GGGATCGGGGATCTGTAGGCACCATCAAT     0.5078\n",
       "ACGACCTGCTTCCTGTAGGCACCATCAAT     0.4933\n",
       "GGGGATCGGGGATTCTGTAGGCACCATCA     0.3984\n",
       "GCGACCCGCTGACTGTAGGCACCATCAAT     0.3946\n",
       "AGTATTAGAGGCCTGTAGGCACCATCAAT     0.3897\n",
       "ACTTCGAACGCACTGTAGGCACCATCAAT     0.3516\n",
       "TGGCGTACGGAACTGTAGGCACCATCAAT     0.3392\n",
       "TCCGGTAAAGCGCTGTAGGCACCATCAAT     0.3332\n",
       "GGCGTACGGAAGCTGTAGGCACCATCAAT     0.3196\n",
       "CTTCGAACGCACCTGTAGGCACCATCAAT     0.2913\n",
       "AAAGCGCCTTCCCTGTAGGCACCATCAAT     0.2766\n",
       "TGTGGCGTACGGCTGTAGGCACCATCAAT     0.2635\n",
       "GCGTACGGAAGACTGTAGGCACCATCAAT     0.2536\n",
       "GGGATCGGGGATTGCTGTAGGCACCATCA     0.2408\n",
       "GACAAGTGGCGTCTGTAGGCACCATCAAT     0.2127\n",
       "AGACGACCTGCTCTGTAGGCACCATCAAT     0.1898\n",
       "ATCCGGTAAAGCCTGTAGGCACCATCAAT     0.1815\n",
       "GACGACCTGCTTCCGTAGGCACCATCAAT     0.1523\n",
       "TCAGGGAGGACACTGTAGGCACCATCAAT     0.1452\n",
       "                                  ...   \n",
       "GCGACCCGCTGAACTGTAGGACCATCAAT     0.0001\n",
       "GCGACCCGCTGAACTGTAGGCACCACAAT     0.0001\n",
       "GCGACCCGCTGAACTGTAGGCACCATCAA     0.0001\n",
       "GCGAATTTGAACCTGTAGGCACCATCAAT     0.0001\n",
       "GCGAATTGCAGCCTGTAGGCACCATCAAT     0.0001\n",
       "GCGAAAGACTAACTGTAGGCACCATCAAT     0.0001\n",
       "GCGAACTGTTTACTGTAGGCACCATCAAT     0.0001\n",
       "GCGAAAGCAAGACTGTAGGCACCATCAAT     0.0001\n",
       "GCGAAATCCGTCCTGTAGGCACCATCAAT     0.0001\n",
       "GCGAAATGCGATCTGTAGGCACCATCAAT     0.0001\n",
       "GCGAAATTGTGGCTGTAGGCACCATCAAT     0.0001\n",
       "GCGAACATTCGACTGTAGGCACCATCAAT     0.0001\n",
       "GCGAACCAAATGCTGTAGGCACCATCAAT     0.0001\n",
       "GCGAACCTGACCCTGTAGGCACCATCAAT     0.0001\n",
       "GCGAACGAGGTTCTGTAGGCACCATCAAT     0.0001\n",
       "GCGAACGAGTGCCTGTAGGCACCATCAAT     0.0001\n",
       "GCGAACGGCAAGCTGTAGGCACCATCAAT     0.0001\n",
       "GCGAAGATGGTTTTGTAGGCACCATCAAT     0.0001\n",
       "GCGAATTCAGAGCTCTAGGCACCATCAAT     0.0001\n",
       "GCGAAGCAAGACCTGTAGGCACCATCAAT     0.0001\n",
       "GCGAAGCCGCGCCTGTAGGCACCATCAAT     0.0001\n",
       "GCGAAGCTACCACTGTAGGCACCATCAAT     0.0001\n",
       "GCGAAGGATATCCTGTAGGCACCATCAAT     0.0001\n",
       "GCGAAGGTTGGTACTGTAGGCACCATAAT     0.0001\n",
       "GCGAAGTCATGGCTGTAGGCACCATCAAT     0.0001\n",
       "GCGAAGTCTGTGCTGTAGGCACCATCAAT     0.0001\n",
       "GCGAATATGGCACTGTAGGCACCATCAAT     0.0001\n",
       "GCGAATCCTTGTCTGTAGGCACCATCAAT     0.0001\n",
       "GCGAATGATTAGCTGTAGGCACCATCAAT     0.0001\n",
       "AAAAAAATGGGACTGTAGGCACCATCAAT     0.0001\n",
       "Length: 117576, dtype: float64"
      ]
     },
     "execution_count": 40,
     "metadata": {},
     "output_type": "execute_result"
    }
   ],
   "source": [
    "histogram1_subsample[29]"
   ]
  },
  {
   "cell_type": "code",
   "execution_count": 43,
   "metadata": {},
   "outputs": [
    {
     "name": "stderr",
     "output_type": "stream",
     "text": [
      "100%|██████████| 1000000/1000000 [01:21<00:00, 12237.76it/s]\n"
     ]
    }
   ],
   "source": [
    "histogram1 =  fastq_kmer_histogram('/staging/as/skchoudh/re-ribo-analysis/hg38/SRP098789/preprocessed_step1/SRR5227298_trimmed.fq.gz')\n",
    "\n"
   ]
  },
  {
   "cell_type": "code",
   "execution_count": 46,
   "metadata": {},
   "outputs": [
    {
     "data": {
      "text/plain": [
       "AGACGACCTGCTTCTGTAGGCACCATCAAT    36.7017\n",
       "CGGGACGGCTGGGCTGTAGGCACCATCAAT    14.4421\n",
       "GACATGTGGCGTACTGTAGGCACCATCAAT     4.8818\n",
       "GGGATCGGGGATTCTGTAGGCACCATCAAT     3.9639\n",
       "ACATGTGGCGTACCTGTAGGCACCATCAAT     2.5166\n",
       "GGGACGGCTGGGACTGTAGGCACCATCAAT     1.3983\n",
       "CCGGGACGGCTGGCTGTAGGCACCATCAAT     0.9373\n",
       "CATGTGGCGTACGCTGTAGGCACCATCAAT     0.8418\n",
       "CGGTGAGGCGGGGCTGTAGGCACCATCAAT     0.6014\n",
       "GACTGGCTCAGCGCTGTAGGCACCATCAAT     0.5956\n",
       "TGTGGCGTACGGACTGTAGGCACCATCAAT     0.5326\n",
       "GGGGATCGGGGATCTGTAGGCACCATCAAT     0.5073\n",
       "GACGACCTGCTTCCTGTAGGCACCATCAAT     0.4904\n",
       "TGGGGATCGGGGATTCTGTAGGCACCATCA     0.4047\n",
       "GGCGACCCGCTGACTGTAGGCACCATCAAT     0.3952\n",
       "CAGTATTAGAGGCCTGTAGGCACCATCAAT     0.3901\n",
       "CACTTCGAACGCACTGTAGGCACCATCAAT     0.3476\n",
       "GTGGCGTACGGAACTGTAGGCACCATCAAT     0.3372\n",
       "ATCCGGTAAAGCGCTGTAGGCACCATCAAT     0.3330\n",
       "TGGCGTACGGAAGCTGTAGGCACCATCAAT     0.3210\n",
       "ACTTCGAACGCACCTGTAGGCACCATCAAT     0.2889\n",
       "CAAAGCGCCTTCCCTGTAGGCACCATCAAT     0.2775\n",
       "ATGTGGCGTACGGCTGTAGGCACCATCAAT     0.2618\n",
       "GGCGTACGGAAGACTGTAGGCACCATCAAT     0.2510\n",
       "GGGGATCGGGGATTGCTGTAGGCACCATCA     0.2419\n",
       "GGACAAGTGGCGTCTGTAGGCACCATCAAT     0.2120\n",
       "TAGACGACCTGCTCTGTAGGCACCATCAAT     0.1879\n",
       "TATCCGGTAAAGCCTGTAGGCACCATCAAT     0.1797\n",
       "AGACGACCTGCTTCCGTAGGCACCATCAAT     0.1526\n",
       "CTCAGGGAGGACACTGTAGGCACCATCAAT     0.1451\n",
       "                                   ...   \n",
       "GCCTTTCTCCGCCCTGTAGGCACCATCAAT     0.0001\n",
       "GCCTTTCTTCGCCCTGTAGGCACCATCAAT     0.0001\n",
       "GCCTTTCTTCTGACTGTAGGCACCATCAAT     0.0001\n",
       "GCCTTGGCACCTGCTGTAGGCACCATCAAT     0.0001\n",
       "GCCTTGGATGATACTGTAGGTACCATCAAT     0.0001\n",
       "GCCTTGGATCAGGCTGTAGGCACCATCAAT     0.0001\n",
       "GCCTTGCTGGTGGCTGTAGGCACCATCAAT     0.0001\n",
       "GCCTTGCACATACCTGTAGGCACCATCAAT     0.0001\n",
       "GCCTTGCACGATGCTGTAGGCACCATCAAT     0.0001\n",
       "GCCTTGCACTACACTGTAGGCACCATCAAT     0.0001\n",
       "GCCTTGCAGGGCACTGTAGGCACCATCAAT     0.0001\n",
       "GCCTTGCCAGAACCTGTAGGCACCATCAAT     0.0001\n",
       "GCCTTGCCCAGTGCTGTAGGCACCATCAAT     0.0001\n",
       "GCCTTGCCTGTAACTGTAGGCACCATCAAT     0.0001\n",
       "GCCTTGCTCAACACTGTAGGCACCATCAAT     0.0001\n",
       "GCCTTGCTCAACCCTGTAGGCACCATCAAT     0.0001\n",
       "GCCTTGCTGCAGCCTGTAGGCACCATCAAT     0.0001\n",
       "GCCTTGCTTCGTTCTGTAGGCACCATCAAT     0.0001\n",
       "GCCTTGGAGCAGCCTGTAGGCACCATCAAT     0.0001\n",
       "GCCTTGGAAAGCGCTGTAGGCCCCATCAAT     0.0001\n",
       "GCCTTGGAACGAGCTGTAGGCACCATCAAT     0.0001\n",
       "GCCTTGGACACAGCTGTAGGCACCATCAAT     0.0001\n",
       "GCCTTGGACATCACTGTAGGCACCATCAAT     0.0001\n",
       "GCCTTGGACCACACTGTAGGCACCATCAAT     0.0001\n",
       "GCCTTGGACCATCCTGTAGGCACCATCAAT     0.0001\n",
       "GCCTTGGACTCATCTGTAGGCACCATCAAT     0.0001\n",
       "GCCTTGGACTGTGCTGTAGGCACCATCAAT     0.0001\n",
       "GCCTTGGAGACGGCTGTAGGCACCATCAAT     0.0001\n",
       "GCCTTGGAGCACCCTGTAGGCACCATCAAT     0.0001\n",
       "AAAAAACACAAGACTGTAGGCACCATCAAT     0.0001\n",
       "Length: 118543, dtype: float64"
      ]
     },
     "execution_count": 46,
     "metadata": {},
     "output_type": "execute_result"
    }
   ],
   "source": [
    "histogram1[30]\n",
    "             "
   ]
  },
  {
   "cell_type": "code",
   "execution_count": 41,
   "metadata": {},
   "outputs": [
    {
     "name": "stderr",
     "output_type": "stream",
     "text": [
      "100%|██████████| 1000000/1000000 [01:30<00:00, 11013.28it/s]\n"
     ]
    }
   ],
   "source": [
    "histogram2 =  fastq_kmer_histogram('/staging/as/skchoudh/re-ribo-analysis/hg38/SRP098789/preprocessed/SRR5227298_trimmed_trimmed.fq.gz')\n",
    "\n"
   ]
  },
  {
   "cell_type": "code",
   "execution_count": 15,
   "metadata": {},
   "outputs": [
    {
     "data": {
      "text/plain": [
       "AGGCACCATCAAT    93.1889\n",
       "TGTAGGCACCATC     1.8758\n",
       "CGGCACCATCAAT     0.5257\n",
       "TAGGCACATCAAT     0.2319\n",
       "TAGGCACCATCAT     0.2175\n",
       "TAGCACCATCAAT     0.1913\n",
       "AGGCATCATCAAT     0.1884\n",
       "AGGTACCATCAAT     0.1641\n",
       "CGGTGAGGCGGGG     0.1583\n",
       "AGGCACTATCAAT     0.1365\n",
       "AGTCACCATCAAT     0.1315\n",
       "ATGCACCATCAAT     0.1312\n",
       "TAGGCACCACAAT     0.1086\n",
       "GGCTGTAGGCACC     0.1074\n",
       "GTAGGCACCATCA     0.0936\n",
       "TGGCACCATCAAT     0.0841\n",
       "TAGGCACCATAAT     0.0800\n",
       "TAGGCACCTCAAT     0.0723\n",
       "AGGCCCCATCAAT     0.0706\n",
       "AGGCACCATTAAT     0.0693\n",
       "CGGGACGGCTGGG     0.0578\n",
       "AGGCACCCTCAAT     0.0552\n",
       "GACCGGCTCCGGG     0.0473\n",
       "AATCTCGTATGCC     0.0464\n",
       "TAGGACCATCAAT     0.0454\n",
       "AGGAACCATCAAT     0.0448\n",
       "TAGGCCCATCAAT     0.0426\n",
       "GGGCACCATCAAT     0.0425\n",
       "AGGCACAATCAAT     0.0370\n",
       "AGACACCATCAAT     0.0337\n",
       "                  ...   \n",
       "GCCTGGAGGCACC     0.0001\n",
       "GCCTGTCGGCACC     0.0001\n",
       "GCCTGTGGGCACC     0.0001\n",
       "GCCCCCAGAAGCG     0.0001\n",
       "GCCCATCAATGAT     0.0001\n",
       "GCCCACAATAATC     0.0001\n",
       "GCAGCACCGGCTC     0.0001\n",
       "GCACCATATCAAT     0.0001\n",
       "GCACCATCAAAAT     0.0001\n",
       "GCACCATCAAATC     0.0001\n",
       "GCACCATGACGGA     0.0001\n",
       "GCACCATGATCGG     0.0001\n",
       "GCACCGCACGTTC     0.0001\n",
       "GCACCTCAATGAT     0.0001\n",
       "GCACGCAGCCTGT     0.0001\n",
       "GCACTGACCAATC     0.0001\n",
       "GCACTGTGGCACC     0.0001\n",
       "GCAGGGCTGTAGG     0.0001\n",
       "GCCCAAGTCCAAT     0.0001\n",
       "GCAGTGAAAGCTG     0.0001\n",
       "GCAGTTGTGTCCT     0.0001\n",
       "GCAGTTTTATCCG     0.0001\n",
       "GCATCATCGCCTC     0.0001\n",
       "GCATCTGCTTCTG     0.0001\n",
       "GCCAACGCAATGT     0.0001\n",
       "GCCAACTACTGCC     0.0001\n",
       "GCCAGCTGGGGCT     0.0001\n",
       "GCCATAGTGGACG     0.0001\n",
       "GCCATGCATGTCT     0.0001\n",
       "AAAAAAAAAAAAA     0.0001\n",
       "Length: 2141, dtype: float64"
      ]
     },
     "execution_count": 15,
     "metadata": {},
     "output_type": "execute_result"
    }
   ],
   "source": [
    "histogram2[13]\n"
   ]
  },
  {
   "cell_type": "code",
   "execution_count": 29,
   "metadata": {},
   "outputs": [
    {
     "data": {
      "text/plain": [
       "array([1])"
      ]
     },
     "execution_count": 29,
     "metadata": {},
     "output_type": "execute_result"
    }
   ],
   "source": [
    "np.random.choice([0,1], 1, p=[0.5, 0.5])"
   ]
  },
  {
   "cell_type": "code",
   "execution_count": 63,
   "metadata": {},
   "outputs": [
    {
     "name": "stderr",
     "output_type": "stream",
     "text": [
      "100%|██████████| 1000000/1000000 [01:01<00:00, 16277.67it/s]\n",
      "100%|██████████| 1000000/1000000 [01:04<00:00, 15604.85it/s]\n"
     ]
    }
   ],
   "source": [
    "fastqs = {'100nt_trimmed_twopass': '/staging/as/skchoudh/re-ribo-analysis/mm10/SRP031501/preprocessed/SRR1013477_trimmed_trimmed.fq.gz',\n",
    "          '100nt_trimmed_onepass': '/staging/as/skchoudh/re-ribo-analysis/mm10/SRP031501/preprocessed_step1/SRR1013477_trimmed.fq.gz',}\n",
    "histograms = {k:{} for k in fastqs.keys()}\n",
    "\n",
    "for key, fastq in fastqs.items():\n",
    "    histograms[key] = fastq_kmer_histogram(fastq)"
   ]
  },
  {
   "cell_type": "code",
   "execution_count": 50,
   "metadata": {},
   "outputs": [
    {
     "name": "stderr",
     "output_type": "stream",
     "text": [
      "100%|██████████| 1000000/1000000 [00:37<00:00, 26822.67it/s]\n"
     ]
    }
   ],
   "source": [
    "histogram = fastq_kmer_histogram('/staging/as/skchoudh/re-ribo-analysis/hg38/SRP098789_v2/preprocessed_step1/SRR5227288_trimmed.fq.gz')"
   ]
  },
  {
   "cell_type": "code",
   "execution_count": 57,
   "metadata": {},
   "outputs": [
    {
     "data": {
      "text/plain": [
       "GCTGTAGGCACCATCAAT    36.1142\n",
       "TCTGTAGGCACCATCAAT    19.0112\n",
       "ACTGTAGGCACCATCAAT    16.5742\n",
       "CCTGTAGGCACCATCAAT    14.6395\n",
       "ACTGTCGGCACCATCAAT     1.2002\n",
       "GCTGTCGGCACCATCAAT     1.0011\n",
       "GGGCTGTAGGCACCATCA     0.9473\n",
       "CCTGTCGGCACCATCAAT     0.6980\n",
       "GCTGTAGGCCCCATCAAT     0.5891\n",
       "TCTGTCGGCACCATCAAT     0.4345\n",
       "GCACCATCAATAAATCGG     0.4294\n",
       "TGACCCGGTGAGGCGGGG     0.3068\n",
       "CACCATCAATAAATCGGA     0.1880\n",
       "CCTGTAGGCCCCATCAAT     0.1849\n",
       "TCTGTAGGCCCCATCAAT     0.1825\n",
       "ACTGTAGGCCCCATCAAT     0.1443\n",
       "GCCGTAGGCACCATCAAT     0.1339\n",
       "GTTGTAGGCACCATCAAT     0.1229\n",
       "ACTGACCCGGTGAGGCGG     0.1141\n",
       "GGCGGGGCTGTAGGCACC     0.1084\n",
       "CTGACCCGGTGAGGCGGG     0.0882\n",
       "TCCGTAGGCACCATCAAT     0.0802\n",
       "ACCGTAGGCACCATCAAT     0.0722\n",
       "GCTGTAGGTACCATCAAT     0.0635\n",
       "GTGAGGCGGGGCTGTAGG     0.0634\n",
       "GCTGTAGGCACCCTCAAT     0.0607\n",
       "GGCTGTAGGCACATCAAT     0.0607\n",
       "GGCTGTAGGCACCATCAT     0.0604\n",
       "ACTGTAGGCACCCTCAAT     0.0556\n",
       "GCTGTAGGCACCATCAAA     0.0550\n",
       "                       ...   \n",
       "GCTCCGGTACGGCTGGGT     0.0001\n",
       "GCTCCGGTACGGCTGGTC     0.0001\n",
       "GCTCCGTCTCACTGTCGG     0.0001\n",
       "GCTCCGTTACGGCTGGGC     0.0001\n",
       "GCTCCTGTCGGCACCATC     0.0001\n",
       "GCTATGACTCCGGGAGCG     0.0001\n",
       "GCTATCACTTTAGGCACC     0.0001\n",
       "GCTAGGACTGTAGGCACC     0.0001\n",
       "GCTACCTGTAGGCACCAT     0.0001\n",
       "GCGTTGCAGGGAGTGGCT     0.0001\n",
       "GCGTTGTAGTCACCATCA     0.0001\n",
       "GCNNCANNAATANNTCGG     0.0001\n",
       "GCTAACTAGTTACGCGAC     0.0001\n",
       "GCTAAGACTTCACCAGAC     0.0001\n",
       "GCTAAGACTTCACCAGTC     0.0001\n",
       "GCTAATACTGTAAGCACC     0.0001\n",
       "GCTAATCCTGTAGGCACC     0.0001\n",
       "GCTACCCCTGTCTGAACG     0.0001\n",
       "GCTACCTTTCCGAGGCGG     0.0001\n",
       "GCTAGAGGGCACTGTAGG     0.0001\n",
       "GCTACGAGCTGTAGGCAC     0.0001\n",
       "GCTACGCCGCGACGAGTC     0.0001\n",
       "GCTACGCCTGTCAGAGCG     0.0001\n",
       "GCTACGCCTGTCTGAACG     0.0001\n",
       "GCTACGCCTGTCTGAGCC     0.0001\n",
       "GCTACGCCTGTCTGATCG     0.0001\n",
       "GCTACGCCTGTCTTAGCG     0.0001\n",
       "GCTACGTCTGTCTGAGCG     0.0001\n",
       "GCTACTGTAGGCACCATC     0.0001\n",
       "GACTGTAGGCCCATCGAT     0.0001\n",
       "Length: 7803, dtype: float64"
      ]
     },
     "execution_count": 57,
     "metadata": {},
     "output_type": "execute_result"
    }
   ],
   "source": [
    "histogram[18]"
   ]
  },
  {
   "cell_type": "code",
   "execution_count": 39,
   "metadata": {},
   "outputs": [
    {
     "name": "stderr",
     "output_type": "stream",
     "text": [
      "100%|██████████| 1000000/1000000 [00:44<00:00, 22595.17it/s]\n",
      "100%|██████████| 1000000/1000000 [00:33<00:00, 29422.01it/s]\n",
      "100%|██████████| 1000000/1000000 [00:38<00:00, 25922.06it/s]\n",
      "100%|██████████| 1000000/1000000 [00:36<00:00, 27777.05it/s]\n",
      "100%|██████████| 1000000/1000000 [00:41<00:00, 24154.78it/s]\n",
      " 11%|█         | 110688/1000000 [00:04<00:37, 23630.05it/s]\n",
      "100%|██████████| 1000000/1000000 [00:40<00:00, 24431.69it/s]\n",
      "100%|██████████| 1000000/1000000 [00:39<00:00, 25098.55it/s]\n",
      "100%|██████████| 1000000/1000000 [00:41<00:00, 24187.90it/s]\n",
      "100%|██████████| 1000000/1000000 [00:32<00:00, 30418.97it/s]\n"
     ]
    }
   ],
   "source": [
    "\n",
    "for key, fastq in fastqs.items():\n",
    "    histograms[key] = fastq_kmer_histogram(fastq)"
   ]
  },
  {
   "cell_type": "markdown",
   "metadata": {},
   "source": [
    "# 100nt long"
   ]
  },
  {
   "cell_type": "code",
   "execution_count": 42,
   "metadata": {},
   "outputs": [
    {
     "data": {
      "text/plain": [
       "NNNNNNNNNNNNNNNNNNNNNNNNNNNNNN    98.3213\n",
       "CCCGGCGGCGCGCCTGTAGGCACCATCAAT     0.1453\n",
       "ACCCGGCGGCGCGCTGTAGGCACCATCAAT     0.1040\n",
       "CGGTGAGGCGGGGCTGTAGGCACCATCAAT     0.0635\n",
       "CGGGACGGCCGGGCTGTAGGCACCATCAAT     0.0412\n",
       "GGGTCGGCGGCGACTGTAGGCACCATCAAT     0.0379\n",
       "GGGGTCGGCGGCGCTGTAGGCACCATCAAT     0.0318\n",
       "TCTGAGCGTCGCTCTGTAGGCACCATCAAT     0.0270\n",
       "TGCGGAGAGCCGTCTGTAGGCACCATCAAT     0.0269\n",
       "CGACCCAACGCGACTGTAGGCACCATCAAT     0.0218\n",
       "GGCCGGGAAGGCCCTGTAGGCACCATCAAT     0.0210\n",
       "GCCGGGAAGGCCCCTGTAGGCACCATCAAT     0.0195\n",
       "TCTGATCGAGGCCCTGTAGGCACCATCAAT     0.0173\n",
       "GCGGAGAGCCGTTCTGTAGGCACCATCAAT     0.0172\n",
       "CGGCCCGTCTCGCCTGTAGGCACCATCAAT     0.0161\n",
       "AGTCACCGACGTATCTCGTATGCCGTCTTC     0.0150\n",
       "TCTCCCTCTCCCCCTGTAGGCACCATCAAT     0.0138\n",
       "CACCGACGTATCTCGTATGCCGTCTTCTGC     0.0135\n",
       "CCGGGAAGGCCCGCTGTAGGCACCATCAAT     0.0127\n",
       "CCAGTCACCGACGTATCTCGTATGCCGTCT     0.0114\n",
       "TCACCGACGTATCTCGTATGCCGTCTTCTN     0.0113\n",
       "CTCCAGTCACCGACGTATCTCGTATGCCGT     0.0113\n",
       "GTGCGGAGAGCCGCTGTAGGCACCATCAAT     0.0108\n",
       "ACCGACGTATCTCGTATGCCGTCTTCTGCT     0.0104\n",
       "CAGTCACCGACGTATCTCGTATGCCGTCTT     0.0102\n",
       "ACTCCAGTCACCGACGTATCTCGTATGCCN     0.0101\n",
       "GAAGGTGAAGGGCCTGTAGGCACCATCAAT     0.0099\n",
       "GTCACCGACGTATCTCGTATGCCGTCTTCT     0.0096\n",
       "CCGGTGAGGCGGGCTGTAGGCACCATCAAT     0.0092\n",
       "TCCAGTCACCGACGTATCTCGTATGCCGTC     0.0091\n",
       "                                   ...   \n",
       "GCGGCACAGAATGTTTATAGGTCTGTTGAA     0.0001\n",
       "GCGGCAGCGGGTACTGTAGGCACCATCAAT     0.0001\n",
       "GCGGCAGGTGCTGCTGTAGGCACCATCAAT     0.0001\n",
       "GCGGCATACGCTCGGCGCCAGTTTGAATAT     0.0001\n",
       "GCGGCCCCGGGTCTGTAGGCACCATCAAT      0.0001\n",
       "GCGGCCCGAGCGCCTGTAGGCACCATCAAT     0.0001\n",
       "GCGGCGAGCCGTTCCTGTGGCACCATCAAT     0.0001\n",
       "GCGCTGACCCCCTCTGTAGGCACCATCAAT     0.0001\n",
       "GCGCTCTCCTCCCCTGTAGGCACCATCAAT     0.0001\n",
       "GCGCTCTCCCTCTCTGTAGGCACCATCAAT     0.0001\n",
       "GCGCCCACCCCCCCTGTAGGCACCATCAAT     0.0001\n",
       "GCGATTCTGCTGGCTGTAGGCACCATCAAT     0.0001\n",
       "GCGCAACCCCTGTCTGTAGGCACCATCAAT     0.0001\n",
       "GCGCACCACCGGCCTGTAGGCACCATCAAT     0.0001\n",
       "GCGCAGCATGCCACTGTAGGCACCATCAAT     0.0001\n",
       "GCGCCAAATGCTTACTCAAGCTCAAACGGC     0.0001\n",
       "GCGCCACGCGTCCGCTGAGGCACCATCAAT     0.0001\n",
       "GCGCCAGTTTGAATATTAGACATAATTTAT     0.0001\n",
       "GCGCCATGTCTAAATGGTTTGCGGGTNNNN     0.0001\n",
       "GCGCCCGGCGGGTCTGTAGGCACCATCAAT     0.0001\n",
       "GCGCTCTCCCTCTCCCCTGTAGGCACCATC     0.0001\n",
       "GCGCCCTCCCCCCCTGTAGGCACCATCAAT     0.0001\n",
       "GCGCCGAATCCCCCTGTAGGCACCATCAAT     0.0001\n",
       "GCGCCGCCAAAACGTCGGCTCAAGTAACTT     0.0001\n",
       "GCGCCTTTACGCTTGCCTTTAGTACCTCGC     0.0001\n",
       "GCGCGAAGCGGGGCTGTAGGCACCATCAAT     0.0001\n",
       "GCGCGCACGCGCACTGTAGGCACCATCAAT     0.0001\n",
       "GCGCGGATGGTCACTGTAGGCACCATCAAT     0.0001\n",
       "GCGCTCCCCCCCCCTGTAGGCACCATCAAT     0.0001\n",
       "AAAAAAAAAAAAAAAAAAAGACGAAAAAAA     0.0001\n",
       "Length: 6181, dtype: float64"
      ]
     },
     "execution_count": 42,
     "metadata": {},
     "output_type": "execute_result"
    }
   ],
   "source": [
    "histograms['100nt_trimmed_onepass'][30]"
   ]
  },
  {
   "cell_type": "code",
   "execution_count": 61,
   "metadata": {},
   "outputs": [
    {
     "data": {
      "text/plain": [
       "NNNNNNNNNN    11.0687\n",
       "NNTTCTNNNN     0.0001\n",
       "dtype: float64"
      ]
     },
     "execution_count": 61,
     "metadata": {},
     "output_type": "execute_result"
    }
   ],
   "source": [
    "histograms['100nt_trimmed_twopass'][10]"
   ]
  },
  {
   "cell_type": "markdown",
   "metadata": {},
   "source": [
    "# A Dataset with 17nt adapter\n",
    "\n",
    "The adapter for this dataset is 17nt long: CTGTAGGCACCATCAAT\n",
    "We will first consider looking at the raw fastq to see if we find any enriched sequences.\n"
   ]
  },
  {
   "cell_type": "code",
   "execution_count": 5,
   "metadata": {},
   "outputs": [
    {
     "data": {
      "text/plain": [
       "CACCATCAATAGATCGG    13.1623\n",
       "GCACCATCAATAGATCG    13.0374\n",
       "AGGCACCATCAATAGAT    12.9194\n",
       "GGCACCATCAATAGATC    12.8873\n",
       "ACCATCAATAGATCGGA     7.7049\n",
       "TAGGCACCATCAATAGA     6.1639\n",
       "dtype: float64"
      ]
     },
     "execution_count": 5,
     "metadata": {},
     "output_type": "execute_result"
    }
   ],
   "source": [
    "get_top_kmers(histograms['17nt'][17])\n",
    "#AGATCGGAAGAGC\n",
    "#CACCATCAATAGATCGG"
   ]
  },
  {
   "cell_type": "markdown",
   "metadata": {},
   "source": [
    "There does seem to be enrichment of some 17nt sequences (collpasing them on Levenshtein distance will lead to one sequence being >50%)"
   ]
  },
  {
   "cell_type": "code",
   "execution_count": 45,
   "metadata": {},
   "outputs": [
    {
     "data": {
      "text/plain": [
       "CTGTAGGCACCATCAAT    55.4321\n",
       "CTGTAGGCCCCATCAAT     9.0573\n",
       "GACCCGGTGAGGCGGGG     3.8465\n",
       "dtype: float64"
      ]
     },
     "execution_count": 45,
     "metadata": {},
     "output_type": "execute_result"
    }
   ],
   "source": [
    "get_top_kmers(histograms['17nt_post_trimming'][17])"
   ]
  },
  {
   "cell_type": "code",
   "execution_count": 48,
   "metadata": {},
   "outputs": [
    {
     "data": {
      "text/plain": [
       "GCTGTAGGCACCATCAAT    22.4646\n",
       "TCTGTAGGCACCATCAAT    11.7972\n",
       "CCTGTAGGCACCATCAAT    11.4453\n",
       "ACTGTAGGCACCATCAAT     9.7249\n",
       "GCTGTAGGCCCCATCAAT     4.9783\n",
       "TGACCCGGTGAGGCGGGG     3.8444\n",
       "ACTGACCCGGTGAGGCGG     1.9585\n",
       "TCTGTAGGCCCCATCAAT     1.4981\n",
       "CCTGTAGGCCCCATCAAT     1.4754\n",
       "dtype: float64"
      ]
     },
     "execution_count": 48,
     "metadata": {},
     "output_type": "execute_result"
    }
   ],
   "source": [
    "get_top_kmers(histograms['17nt_post_trimming'][18])"
   ]
  },
  {
   "cell_type": "markdown",
   "metadata": {},
   "source": [
    "This should also highlight the need to trim twice. Let's look at the original 17nt enrichment sequence (before anytrimming). The top sequence is:\n",
    "\n",
    "CACCATCAATAGATCGG. Looking closely, it should not be difficult to realize that there is illumina standard adapter (`AGATCGGAAGAGC`) thrown somewhere in between.\n",
    "\n",
    "CACCATCAAT**AGATCGG**. So trimming gets rid of these partial adapters and the rest of the overrepresented sequence shows enrichment, which is not so clear\n",
    "without trimming.\n",
    "\n",
    "To make sure 17nt indeed is the adapter, we can go one nucleotide up:\n"
   ]
  },
  {
   "cell_type": "code",
   "execution_count": 9,
   "metadata": {},
   "outputs": [
    {
     "data": {
      "text/plain": [
       "GCTGTAGGCACCATCAAT    22.4646\n",
       "TCTGTAGGCACCATCAAT    11.7972\n",
       "CCTGTAGGCACCATCAAT    11.4453\n",
       "ACTGTAGGCACCATCAAT     9.7249\n",
       "GCTGTAGGCCCCATCAAT     4.9783\n",
       "TGACCCGGTGAGGCGGGG     3.8444\n",
       "ACTGACCCGGTGAGGCGG     1.9585\n",
       "TCTGTAGGCCCCATCAAT     1.4981\n",
       "CCTGTAGGCCCCATCAAT     1.4754\n",
       "dtype: float64"
      ]
     },
     "execution_count": 9,
     "metadata": {},
     "output_type": "execute_result"
    }
   ],
   "source": [
    "get_top_kmers(histograms['17nt_post_trimming'][18])\n"
   ]
  },
  {
   "cell_type": "code",
   "execution_count": 10,
   "metadata": {},
   "outputs": [
    {
     "data": {
      "text/plain": [
       "GCTGTAGGCACCATCAAT    22.4646\n",
       "TCTGTAGGCACCATCAAT    11.7972\n",
       "CCTGTAGGCACCATCAAT    11.4453\n",
       "ACTGTAGGCACCATCAAT     9.7249\n",
       "GCTGTAGGCCCCATCAAT     4.9783\n",
       "TGACCCGGTGAGGCGGGG     3.8444\n",
       "ACTGACCCGGTGAGGCGG     1.9585\n",
       "TCTGTAGGCCCCATCAAT     1.4981\n",
       "CCTGTAGGCCCCATCAAT     1.4754\n",
       "CTGACCCGGTGAGGCGGG     1.4109\n",
       "ACTGTAGGCCCCATCAAT     1.1055\n",
       "GGCGGGGCTGTAGGCACC     0.9578\n",
       "GTGAGGCGGGGCTGTAGG     0.7923\n",
       "GACCCGGTGAGGCGGGGC     0.7595\n",
       "CACTGACCCGGTGAGGCG     0.7122\n",
       "GGGCTGTAGGCACCATCA     0.5397\n",
       "CCGGTGAGGCGGGGCTGT     0.5084\n",
       "ACTGTAGGCACCCTCAAT     0.4479\n",
       "GCCGCGACCGGCTCCGGG     0.4157\n",
       "TCTGTAGGCACCCTCAAT     0.4076\n",
       "GGCTCCGGGACGGCTGGG     0.3964\n",
       "GCTGTAGGCACCCTCAAT     0.2938\n",
       "TCACTGACCCGGTGAGGC     0.2928\n",
       "TTTTTCACTGACCCGGTG     0.2900\n",
       "CCTGTAGGCACCCTCAAT     0.2715\n",
       "CGGCTCCGGGACGGCTGG     0.2571\n",
       "CCGGGACGGCTGGGCTGT     0.2371\n",
       "ACCCGGTGAGGCGGGGCT     0.2361\n",
       "TTCACTGACCCGGTGAGG     0.2254\n",
       "CCGGCTCCGGGACGGCTG     0.2081\n",
       "                       ...   \n",
       "GCTCGACCTGAGAGACCC     0.0001\n",
       "GCTCGAAGTTAGATCTTG     0.0001\n",
       "GCTCGAAAGGGAGTCGGG     0.0001\n",
       "GCTCCTTCCATCTATCTG     0.0001\n",
       "GCTCCTGTCTTTAGGCAC     0.0001\n",
       "GCTCCTGGCTGTAGGCAC     0.0001\n",
       "GCTCCTGGCTGGCTCGCC     0.0001\n",
       "GCTCCTGGCAGGATCAAT     0.0001\n",
       "GCTCCTGGACTTCTCTGT     0.0001\n",
       "GCTCGCGCCATCTTCTGT     0.0001\n",
       "GCTCGCGTGCTGATCCGC     0.0001\n",
       "GCTCGCTCACCCTCGAGC     0.0001\n",
       "GCTCGGGGGACTGTAGGC     0.0001\n",
       "GCTCGGGTAAACGGCGGG     0.0001\n",
       "GCTCGGGGGGNTGTAGGC     0.0001\n",
       "GCTCGGGGGGCTGTAGTC     0.0001\n",
       "GCTCGGGGGGCTGAAGGC     0.0001\n",
       "GCTCGGGGGGCTATAGGC     0.0001\n",
       "GCTCGGGGGGCCTGTAGG     0.0001\n",
       "GCTCGGGGGGATGTAGGC     0.0001\n",
       "GCTCGGGGCTCGCTGCGC     0.0001\n",
       "GCTCGCTGTAGGCACCAT     0.0001\n",
       "GCTCGGGGAGGACACGGT     0.0001\n",
       "GCTCGGGCTGTAGGCACC     0.0001\n",
       "GCTCGGGCCGCCTTGACC     0.0001\n",
       "GCTCGGGACAGGGGACGG     0.0001\n",
       "GCTCGGCGTGGCGGCGTT     0.0001\n",
       "GCTCGGCCGATCGAAAGG     0.0001\n",
       "GCTCGGAATAATGGCTGT     0.0001\n",
       "GAAATGTGGCGTACCTGT     0.0001\n",
       "Length: 46871, dtype: float64"
      ]
     },
     "execution_count": 10,
     "metadata": {},
     "output_type": "execute_result"
    }
   ],
   "source": [
    "histograms['17nt_post_trimming'][18]"
   ]
  },
  {
   "cell_type": "markdown",
   "metadata": {},
   "source": [
    "# Dataset with 13nt adapter\n",
    "\n",
    "Let's try do do the same with a fastq where we know the adpter is 13 nt long.\n"
   ]
  },
  {
   "cell_type": "code",
   "execution_count": 8,
   "metadata": {},
   "outputs": [
    {
     "data": {
      "text/plain": [
       "AAGAGCACACGTC    16.1245\n",
       "AGAGCACACGTCT    14.1972\n",
       "GAGCACACGTCTG     9.9697\n",
       "GAAGAGCACACGT     9.1139\n",
       "AGCACACGTCTGA     8.7303\n",
       "GGAAGAGCACACG     8.2685\n",
       "dtype: float64"
      ]
     },
     "execution_count": 8,
     "metadata": {},
     "output_type": "execute_result"
    }
   ],
   "source": [
    "get_top_kmers(histograms['13nt'][13])\n"
   ]
  },
  {
   "cell_type": "markdown",
   "metadata": {},
   "source": [
    "Again, the first four sequences are essentially within a Levenshtein distance of 1-2nt.\n"
   ]
  },
  {
   "cell_type": "code",
   "execution_count": 9,
   "metadata": {},
   "outputs": [
    {
     "data": {
      "text/plain": [
       "GAAGAGCACACGTC    16.1145\n",
       "AAGAGCACACGTCT    14.1804\n",
       "AGAGCACACGTCTG     9.9658\n",
       "GGAAGAGCACACGT     9.1067\n",
       "GAGCACACGTCTGA     8.7169\n",
       "CGGAAGAGCACACG     8.2564\n",
       "dtype: float64"
      ]
     },
     "execution_count": 9,
     "metadata": {},
     "output_type": "execute_result"
    }
   ],
   "source": [
    "get_top_kmers(histograms['13nt'][14])\n"
   ]
  },
  {
   "cell_type": "code",
   "execution_count": 10,
   "metadata": {},
   "outputs": [
    {
     "data": {
      "text/plain": [
       "GGAAGAGCACACGTC    16.1013\n",
       "GAAGAGCACACGTCT    14.1736\n",
       "AAGAGCACACGTCTG     9.9550\n",
       "CGGAAGAGCACACGT     9.0890\n",
       "AGAGCACACGTCTGA     8.7135\n",
       "TCGGAAGAGCACACG     8.2518\n",
       "dtype: float64"
      ]
     },
     "execution_count": 10,
     "metadata": {},
     "output_type": "execute_result"
    }
   ],
   "source": [
    "get_top_kmers(histograms['13nt'][15])\n"
   ]
  },
  {
   "cell_type": "code",
   "execution_count": 11,
   "metadata": {},
   "outputs": [
    {
     "data": {
      "text/plain": [
       "TCGGAAGAGCACACGTC    16.0734\n",
       "CGGAAGAGCACACGTCT    14.1419\n",
       "GGAAGAGCACACGTCTG     9.9349\n",
       "ATCGGAAGAGCACACGT     9.0782\n",
       "GAAGAGCACACGTCTGA     8.6985\n",
       "GATCGGAAGAGCACACG     8.2462\n",
       "dtype: float64"
      ]
     },
     "execution_count": 11,
     "metadata": {},
     "output_type": "execute_result"
    }
   ],
   "source": [
    "get_top_kmers(histograms['13nt'][17])\n"
   ]
  },
  {
   "cell_type": "code",
   "execution_count": 12,
   "metadata": {},
   "outputs": [
    {
     "data": {
      "text/plain": [
       "AGATCGGAAGAGCACACGTC    16.0616\n",
       "GATCGGAAGAGCACACGTCT    14.1262\n",
       "ATCGGAAGAGCACACGTCTG     9.9163\n",
       "TCGGAAGAGCACACGTCTGA     8.6758\n",
       "CGGAAGAGCACACGTCTGAA     4.6175\n",
       "GGAAGAGCACACGTCTGAAC     4.1324\n",
       "GAGATCGGAAGAGCACACGT     3.3973\n",
       "AAGATCGGAAGAGCACACGT     2.2540\n",
       "GAAGATCGGAAGAGCACACG     2.2406\n",
       "TAGATCGGAAGAGCACACGT     2.1943\n",
       "GAAGAGCACACGTCTGAACT     1.9141\n",
       "dtype: float64"
      ]
     },
     "execution_count": 12,
     "metadata": {},
     "output_type": "execute_result"
    }
   ],
   "source": [
    "get_top_kmers(histograms['13nt'][20])\n"
   ]
  },
  {
   "cell_type": "code",
   "execution_count": 13,
   "metadata": {},
   "outputs": [
    {
     "data": {
      "text/plain": [
       "AGATCGGAAGAGCACACGTCT    14.1236\n",
       "GATCGGAAGAGCACACGTCTG     9.9142\n",
       "ATCGGAAGAGCACACGTCTGA     8.6733\n",
       "AAGATCGGAAGAGCACACGTC     6.2070\n",
       "TAGATCGGAAGAGCACACGTC     4.6852\n",
       "TCGGAAGAGCACACGTCTGAA     4.6157\n",
       "CGGAAGAGCACACGTCTGAAC     4.1277\n",
       "GAGATCGGAAGAGCACACGTC     3.5576\n",
       "GGAAGAGCACACGTCTGAACT     1.9112\n",
       "GAAGATCGGAAGAGCACACGT     1.7736\n",
       "CAGATCGGAAGAGCACACGTC     1.6118\n",
       "ATTAGATCGGAAGAGCACACG     1.5639\n",
       "TTAGATCGGAAGAGCACACGT     1.4197\n",
       "GGAGATCGGAAGAGCACACGT     1.3926\n",
       "GAAGAGCACACGTCTGAACTC     1.0232\n",
       "CGAGATCGGAAGAGCACACGT     0.9139\n",
       "TGAAAGATCGGAAGAGCACAC     0.8508\n",
       "TGAAGATCGGAAGAGCACACG     0.8373\n",
       "AGAGATCGGAAGAGCACACGT     0.7603\n",
       "dtype: float64"
      ]
     },
     "execution_count": 13,
     "metadata": {},
     "output_type": "execute_result"
    }
   ],
   "source": [
    "get_top_kmers(histograms['13nt'][21])\n"
   ]
  },
  {
   "cell_type": "markdown",
   "metadata": {},
   "source": [
    "Again, not sure where should we stop. Let's do this on the trimmed dataset"
   ]
  },
  {
   "cell_type": "code",
   "execution_count": 14,
   "metadata": {},
   "outputs": [
    {
     "data": {
      "text/plain": [
       "GAGCG    7.8018\n",
       "AGCGA    7.0808\n",
       "GGCTT    5.6907\n",
       "CTGGG    3.1384\n",
       "TGGGG    2.9078\n",
       "dtype: float64"
      ]
     },
     "execution_count": 14,
     "metadata": {},
     "output_type": "execute_result"
    }
   ],
   "source": [
    "get_top_kmers(histograms['13nt_post_trimming'][5])[0:5]\n"
   ]
  },
  {
   "cell_type": "markdown",
   "metadata": {},
   "source": [
    "It look's good now. This doesn't require a second pass at trimming!"
   ]
  },
  {
   "cell_type": "code",
   "execution_count": 4,
   "metadata": {},
   "outputs": [
    {
     "name": "stderr",
     "output_type": "stream",
     "text": [
      "100%|██████████| 1000000/1000000 [00:39<00:00, 25324.65it/s]\n"
     ]
    }
   ],
   "source": [
    "histogram_new = fastq_kmer_histogram('/staging/as/skchoudh/re-ribo-analysis/hg38/SRP098789_v2/preprocessed_step1/SRR5227288_trimmed.fq.gz')\n"
   ]
  },
  {
   "cell_type": "code",
   "execution_count": 12,
   "metadata": {},
   "outputs": [
    {
     "data": {
      "text/plain": [
       "GCTGTAGGCACCATCAAT    36.1142\n",
       "TCTGTAGGCACCATCAAT    19.0112\n",
       "ACTGTAGGCACCATCAAT    16.5742\n",
       "CCTGTAGGCACCATCAAT    14.6395\n",
       "ACTGTCGGCACCATCAAT     1.2002\n",
       "GCTGTCGGCACCATCAAT     1.0011\n",
       "GGGCTGTAGGCACCATCA     0.9473\n",
       "CCTGTCGGCACCATCAAT     0.6980\n",
       "GCTGTAGGCCCCATCAAT     0.5891\n",
       "TCTGTCGGCACCATCAAT     0.4345\n",
       "GCACCATCAATAAATCGG     0.4294\n",
       "TGACCCGGTGAGGCGGGG     0.3068\n",
       "CACCATCAATAAATCGGA     0.1880\n",
       "CCTGTAGGCCCCATCAAT     0.1849\n",
       "TCTGTAGGCCCCATCAAT     0.1825\n",
       "ACTGTAGGCCCCATCAAT     0.1443\n",
       "GCCGTAGGCACCATCAAT     0.1339\n",
       "GTTGTAGGCACCATCAAT     0.1229\n",
       "ACTGACCCGGTGAGGCGG     0.1141\n",
       "GGCGGGGCTGTAGGCACC     0.1084\n",
       "CTGACCCGGTGAGGCGGG     0.0882\n",
       "TCCGTAGGCACCATCAAT     0.0802\n",
       "ACCGTAGGCACCATCAAT     0.0722\n",
       "GCTGTAGGTACCATCAAT     0.0635\n",
       "GTGAGGCGGGGCTGTAGG     0.0634\n",
       "GCTGTAGGCACCCTCAAT     0.0607\n",
       "GGCTGTAGGCACATCAAT     0.0607\n",
       "GGCTGTAGGCACCATCAT     0.0604\n",
       "ACTGTAGGCACCCTCAAT     0.0556\n",
       "GCTGTAGGCACCATCAAA     0.0550\n",
       "                       ...   \n",
       "GCTCCGGTACGGCTGGGT     0.0001\n",
       "GCTCCGGTACGGCTGGTC     0.0001\n",
       "GCTCCGTCTCACTGTCGG     0.0001\n",
       "GCTCCGTTACGGCTGGGC     0.0001\n",
       "GCTCCTGTCGGCACCATC     0.0001\n",
       "GCTATGACTCCGGGAGCG     0.0001\n",
       "GCTATCACTTTAGGCACC     0.0001\n",
       "GCTAGGACTGTAGGCACC     0.0001\n",
       "GCTACCTGTAGGCACCAT     0.0001\n",
       "GCGTTGCAGGGAGTGGCT     0.0001\n",
       "GCGTTGTAGTCACCATCA     0.0001\n",
       "GCNNCANNAATANNTCGG     0.0001\n",
       "GCTAACTAGTTACGCGAC     0.0001\n",
       "GCTAAGACTTCACCAGAC     0.0001\n",
       "GCTAAGACTTCACCAGTC     0.0001\n",
       "GCTAATACTGTAAGCACC     0.0001\n",
       "GCTAATCCTGTAGGCACC     0.0001\n",
       "GCTACCCCTGTCTGAACG     0.0001\n",
       "GCTACCTTTCCGAGGCGG     0.0001\n",
       "GCTAGAGGGCACTGTAGG     0.0001\n",
       "GCTACGAGCTGTAGGCAC     0.0001\n",
       "GCTACGCCGCGACGAGTC     0.0001\n",
       "GCTACGCCTGTCAGAGCG     0.0001\n",
       "GCTACGCCTGTCTGAACG     0.0001\n",
       "GCTACGCCTGTCTGAGCC     0.0001\n",
       "GCTACGCCTGTCTGATCG     0.0001\n",
       "GCTACGCCTGTCTTAGCG     0.0001\n",
       "GCTACGTCTGTCTGAGCG     0.0001\n",
       "GCTACTGTAGGCACCATC     0.0001\n",
       "GACTGTAGGCCCATCGAT     0.0001\n",
       "Length: 7803, dtype: float64"
      ]
     },
     "execution_count": 12,
     "metadata": {},
     "output_type": "execute_result"
    }
   ],
   "source": [
    "histogram_new[18]\n"
   ]
  },
  {
   "cell_type": "code",
   "execution_count": 13,
   "metadata": {},
   "outputs": [
    {
     "data": {
      "text/plain": [
       "GCTGTAGGCACCATCAAT    22.4646\n",
       "TCTGTAGGCACCATCAAT    11.7972\n",
       "CCTGTAGGCACCATCAAT    11.4453\n",
       "ACTGTAGGCACCATCAAT     9.7249\n",
       "GCTGTAGGCCCCATCAAT     4.9783\n",
       "TGACCCGGTGAGGCGGGG     3.8444\n",
       "ACTGACCCGGTGAGGCGG     1.9585\n",
       "TCTGTAGGCCCCATCAAT     1.4981\n",
       "CCTGTAGGCCCCATCAAT     1.4754\n",
       "CTGACCCGGTGAGGCGGG     1.4109\n",
       "ACTGTAGGCCCCATCAAT     1.1055\n",
       "GGCGGGGCTGTAGGCACC     0.9578\n",
       "GTGAGGCGGGGCTGTAGG     0.7923\n",
       "GACCCGGTGAGGCGGGGC     0.7595\n",
       "CACTGACCCGGTGAGGCG     0.7122\n",
       "GGGCTGTAGGCACCATCA     0.5397\n",
       "CCGGTGAGGCGGGGCTGT     0.5084\n",
       "ACTGTAGGCACCCTCAAT     0.4479\n",
       "GCCGCGACCGGCTCCGGG     0.4157\n",
       "TCTGTAGGCACCCTCAAT     0.4076\n",
       "GGCTCCGGGACGGCTGGG     0.3964\n",
       "GCTGTAGGCACCCTCAAT     0.2938\n",
       "TCACTGACCCGGTGAGGC     0.2928\n",
       "TTTTTCACTGACCCGGTG     0.2900\n",
       "CCTGTAGGCACCCTCAAT     0.2715\n",
       "CGGCTCCGGGACGGCTGG     0.2571\n",
       "CCGGGACGGCTGGGCTGT     0.2371\n",
       "ACCCGGTGAGGCGGGGCT     0.2361\n",
       "TTCACTGACCCGGTGAGG     0.2254\n",
       "CCGGCTCCGGGACGGCTG     0.2081\n",
       "                       ...   \n",
       "GCTCGACCTGAGAGACCC     0.0001\n",
       "GCTCGAAGTTAGATCTTG     0.0001\n",
       "GCTCGAAAGGGAGTCGGG     0.0001\n",
       "GCTCCTTCCATCTATCTG     0.0001\n",
       "GCTCCTGTCTTTAGGCAC     0.0001\n",
       "GCTCCTGGCTGTAGGCAC     0.0001\n",
       "GCTCCTGGCTGGCTCGCC     0.0001\n",
       "GCTCCTGGCAGGATCAAT     0.0001\n",
       "GCTCCTGGACTTCTCTGT     0.0001\n",
       "GCTCGCGCCATCTTCTGT     0.0001\n",
       "GCTCGCGTGCTGATCCGC     0.0001\n",
       "GCTCGCTCACCCTCGAGC     0.0001\n",
       "GCTCGGGGGACTGTAGGC     0.0001\n",
       "GCTCGGGTAAACGGCGGG     0.0001\n",
       "GCTCGGGGGGNTGTAGGC     0.0001\n",
       "GCTCGGGGGGCTGTAGTC     0.0001\n",
       "GCTCGGGGGGCTGAAGGC     0.0001\n",
       "GCTCGGGGGGCTATAGGC     0.0001\n",
       "GCTCGGGGGGCCTGTAGG     0.0001\n",
       "GCTCGGGGGGATGTAGGC     0.0001\n",
       "GCTCGGGGCTCGCTGCGC     0.0001\n",
       "GCTCGCTGTAGGCACCAT     0.0001\n",
       "GCTCGGGGAGGACACGGT     0.0001\n",
       "GCTCGGGCTGTAGGCACC     0.0001\n",
       "GCTCGGGCCGCCTTGACC     0.0001\n",
       "GCTCGGGACAGGGGACGG     0.0001\n",
       "GCTCGGCGTGGCGGCGTT     0.0001\n",
       "GCTCGGCCGATCGAAAGG     0.0001\n",
       "GCTCGGAATAATGGCTGT     0.0001\n",
       "GAAATGTGGCGTACCTGT     0.0001\n",
       "Length: 46871, dtype: float64"
      ]
     },
     "execution_count": 13,
     "metadata": {},
     "output_type": "execute_result"
    }
   ],
   "source": [
    "histograms['17nt_post_trimming'][18]"
   ]
  },
  {
   "cell_type": "code",
   "execution_count": null,
   "metadata": {},
   "outputs": [],
   "source": []
  }
 ],
 "metadata": {
  "kernelspec": {
   "display_name": "Python (riboraptor_clean)",
   "language": "python",
   "name": "riboraptor_clean"
  },
  "language_info": {
   "codemirror_mode": {
    "name": "ipython",
    "version": 3
   },
   "file_extension": ".py",
   "mimetype": "text/x-python",
   "name": "python",
   "nbconvert_exporter": "python",
   "pygments_lexer": "ipython3",
   "version": "3.5.5"
  }
 },
 "nbformat": 4,
 "nbformat_minor": 2
}
